{
  "nbformat": 4,
  "nbformat_minor": 0,
  "metadata": {
    "colab": {
      "provenance": [],
      "collapsed_sections": [
        "L2HPkUC0E8cy",
        "5uvReOYWFDVn",
        "SxzJmbrtum2T",
        "PSdo-oFqFMbJ"
      ],
      "toc_visible": true
    },
    "kernelspec": {
      "name": "python3",
      "display_name": "Python 3"
    },
    "language_info": {
      "name": "python"
    }
  },
  "cells": [
    {
      "cell_type": "markdown",
      "source": [
        "# Perkenalan\n",
        "Nama : Fadhilah  \n",
        "Batch : HCK-013  \n",
        "\n",
        "**Objective** :  Membangun model mendeteksi spam komentar pada youtube channel dengan deep learning dengan model Natural Language Processing (NLP)"
      ],
      "metadata": {
        "id": "uvKQGPWeE4Fi"
      }
    },
    {
      "cell_type": "markdown",
      "source": [
        "## Import Libraries"
      ],
      "metadata": {
        "id": "L2HPkUC0E8cy"
      }
    },
    {
      "cell_type": "code",
      "source": [
        "pip install Sastrawi"
      ],
      "metadata": {
        "colab": {
          "base_uri": "https://localhost:8080/"
        },
        "id": "hegJOMjNV-sJ",
        "outputId": "89d83b71-de6f-4136-bfab-bb73cca16c23"
      },
      "execution_count": 128,
      "outputs": [
        {
          "output_type": "stream",
          "name": "stdout",
          "text": [
            "Requirement already satisfied: Sastrawi in /usr/local/lib/python3.10/dist-packages (1.0.1)\n"
          ]
        }
      ]
    },
    {
      "cell_type": "code",
      "execution_count": 129,
      "metadata": {
        "id": "zPN_GgOaELlR",
        "colab": {
          "base_uri": "https://localhost:8080/"
        },
        "outputId": "d9633282-47ee-4541-8cdd-9f41236cc7ba"
      },
      "outputs": [
        {
          "output_type": "stream",
          "name": "stderr",
          "text": [
            "[nltk_data] Downloading package stopwords to /root/nltk_data...\n",
            "[nltk_data]   Package stopwords is already up-to-date!\n",
            "[nltk_data] Downloading package punkt to /root/nltk_data...\n",
            "[nltk_data]   Package punkt is already up-to-date!\n"
          ]
        },
        {
          "output_type": "execute_result",
          "data": {
            "text/plain": [
              "True"
            ]
          },
          "metadata": {},
          "execution_count": 129
        }
      ],
      "source": [
        "# Import Libraries\n",
        "\n",
        "import re\n",
        "import nltk\n",
        "import string\n",
        "import numpy as np\n",
        "import pandas as pd\n",
        "import seaborn as sns\n",
        "import matplotlib.pyplot as plt\n",
        "\n",
        "import tensorflow as tf\n",
        "import tensorflow_hub as tf_hub\n",
        "from tensorflow.keras.layers import Embedding\n",
        "\n",
        "from nltk.tokenize import word_tokenize\n",
        "from nltk.corpus import stopwords\n",
        "from Sastrawi.Stemmer.StemmerFactory import StemmerFactory\n",
        "from sklearn.model_selection import train_test_split\n",
        "from sklearn.feature_extraction.text import CountVectorizer\n",
        "from tensorflow.keras.utils import to_categorical\n",
        "from tensorflow.keras.layers import TextVectorization\n",
        "from tensorflow.keras.models import Sequential\n",
        "from tensorflow.keras.layers import Dense, LSTM, Bidirectional, GRU, Dropout, Reshape\n",
        "from wordcloud import WordCloud, STOPWORDS, ImageColorGenerator\n",
        "nltk.download('stopwords')\n",
        "nltk.download('punkt')"
      ]
    },
    {
      "cell_type": "markdown",
      "source": [
        "## Data Loading"
      ],
      "metadata": {
        "id": "5uvReOYWFDVn"
      }
    },
    {
      "cell_type": "code",
      "source": [
        "data = pd.read_csv('Youtube01-Psy.csv')\n",
        "data.head(10)"
      ],
      "metadata": {
        "colab": {
          "base_uri": "https://localhost:8080/",
          "height": 0
        },
        "id": "6gNt_f0EFEq7",
        "outputId": "97cf29b6-7eca-4959-fac3-3da1619bb657"
      },
      "execution_count": 130,
      "outputs": [
        {
          "output_type": "execute_result",
          "data": {
            "text/plain": [
              "                                    COMMENT_ID            AUTHOR  \\\n",
              "0  LZQPQhLyRh80UYxNuaDWhIGQYNQ96IuCg-AYWqNPjpU         Julius NM   \n",
              "1  LZQPQhLyRh_C2cTtd9MvFRJedxydaVW-2sNg5Diuo4A       adam riyati   \n",
              "2  LZQPQhLyRh9MSZYnf8djyk0gEF9BHDPYrrK-qCczIY8  Evgeny Murashkin   \n",
              "3          z13jhp0bxqncu512g22wvzkasxmvvzjaz04   ElNino Melendez   \n",
              "4          z13fwbwp1oujthgqj04chlngpvzmtt3r3dw            GsMega   \n",
              "5  LZQPQhLyRh9-wNRtlZDM90f1k0BrdVdJyN_YsaSwfxc      Jason Haddad   \n",
              "6          z13lfzdo5vmdi1cm123te5uz2mqig1brz04    ferleck ferles   \n",
              "7        z122wfnzgt30fhubn04cdn3xfx2mxzngsl40k      Bob Kanowski   \n",
              "8          z13ttt1jcraqexk2o234ghbgzxymz1zzi04              Cony   \n",
              "9          z12avveb4xqiirsix04chxviiljryduwxg0       BeBe Burkey   \n",
              "\n",
              "                  DATE                                            CONTENT  \\\n",
              "0  2013-11-07T06:20:48  Huh, anyway check out this you[tube] channel: ...   \n",
              "1  2013-11-07T12:37:15  Hey guys check out my new channel and our firs...   \n",
              "2  2013-11-08T17:34:21             just for test I have to say murdev.com   \n",
              "3  2013-11-09T08:28:43   me shaking my sexy ass on my channel enjoy ^_^ ﻿   \n",
              "4  2013-11-10T16:05:38            watch?v=vtaRGgvGtWQ   Check this out .﻿   \n",
              "5  2013-11-26T02:55:11  Hey, check out my new website!! This site is a...   \n",
              "6  2013-11-27T21:39:24                          Subscribe to my channel ﻿   \n",
              "7  2013-11-28T12:33:27  i turned it on mute as soon is i came on i jus...   \n",
              "8  2013-11-28T16:01:47    You should check my channel for Funny VIDEOS!!﻿   \n",
              "9  2013-11-28T16:30:13  and u should.d check my channel and tell me wh...   \n",
              "\n",
              "   CLASS  \n",
              "0      1  \n",
              "1      1  \n",
              "2      1  \n",
              "3      1  \n",
              "4      1  \n",
              "5      1  \n",
              "6      1  \n",
              "7      0  \n",
              "8      1  \n",
              "9      1  "
            ],
            "text/html": [
              "\n",
              "  <div id=\"df-ad10a908-a2bf-49a9-b5fe-57fe7ca4d24b\" class=\"colab-df-container\">\n",
              "    <div>\n",
              "<style scoped>\n",
              "    .dataframe tbody tr th:only-of-type {\n",
              "        vertical-align: middle;\n",
              "    }\n",
              "\n",
              "    .dataframe tbody tr th {\n",
              "        vertical-align: top;\n",
              "    }\n",
              "\n",
              "    .dataframe thead th {\n",
              "        text-align: right;\n",
              "    }\n",
              "</style>\n",
              "<table border=\"1\" class=\"dataframe\">\n",
              "  <thead>\n",
              "    <tr style=\"text-align: right;\">\n",
              "      <th></th>\n",
              "      <th>COMMENT_ID</th>\n",
              "      <th>AUTHOR</th>\n",
              "      <th>DATE</th>\n",
              "      <th>CONTENT</th>\n",
              "      <th>CLASS</th>\n",
              "    </tr>\n",
              "  </thead>\n",
              "  <tbody>\n",
              "    <tr>\n",
              "      <th>0</th>\n",
              "      <td>LZQPQhLyRh80UYxNuaDWhIGQYNQ96IuCg-AYWqNPjpU</td>\n",
              "      <td>Julius NM</td>\n",
              "      <td>2013-11-07T06:20:48</td>\n",
              "      <td>Huh, anyway check out this you[tube] channel: ...</td>\n",
              "      <td>1</td>\n",
              "    </tr>\n",
              "    <tr>\n",
              "      <th>1</th>\n",
              "      <td>LZQPQhLyRh_C2cTtd9MvFRJedxydaVW-2sNg5Diuo4A</td>\n",
              "      <td>adam riyati</td>\n",
              "      <td>2013-11-07T12:37:15</td>\n",
              "      <td>Hey guys check out my new channel and our firs...</td>\n",
              "      <td>1</td>\n",
              "    </tr>\n",
              "    <tr>\n",
              "      <th>2</th>\n",
              "      <td>LZQPQhLyRh9MSZYnf8djyk0gEF9BHDPYrrK-qCczIY8</td>\n",
              "      <td>Evgeny Murashkin</td>\n",
              "      <td>2013-11-08T17:34:21</td>\n",
              "      <td>just for test I have to say murdev.com</td>\n",
              "      <td>1</td>\n",
              "    </tr>\n",
              "    <tr>\n",
              "      <th>3</th>\n",
              "      <td>z13jhp0bxqncu512g22wvzkasxmvvzjaz04</td>\n",
              "      <td>ElNino Melendez</td>\n",
              "      <td>2013-11-09T08:28:43</td>\n",
              "      <td>me shaking my sexy ass on my channel enjoy ^_^ ﻿</td>\n",
              "      <td>1</td>\n",
              "    </tr>\n",
              "    <tr>\n",
              "      <th>4</th>\n",
              "      <td>z13fwbwp1oujthgqj04chlngpvzmtt3r3dw</td>\n",
              "      <td>GsMega</td>\n",
              "      <td>2013-11-10T16:05:38</td>\n",
              "      <td>watch?v=vtaRGgvGtWQ   Check this out .﻿</td>\n",
              "      <td>1</td>\n",
              "    </tr>\n",
              "    <tr>\n",
              "      <th>5</th>\n",
              "      <td>LZQPQhLyRh9-wNRtlZDM90f1k0BrdVdJyN_YsaSwfxc</td>\n",
              "      <td>Jason Haddad</td>\n",
              "      <td>2013-11-26T02:55:11</td>\n",
              "      <td>Hey, check out my new website!! This site is a...</td>\n",
              "      <td>1</td>\n",
              "    </tr>\n",
              "    <tr>\n",
              "      <th>6</th>\n",
              "      <td>z13lfzdo5vmdi1cm123te5uz2mqig1brz04</td>\n",
              "      <td>ferleck ferles</td>\n",
              "      <td>2013-11-27T21:39:24</td>\n",
              "      <td>Subscribe to my channel ﻿</td>\n",
              "      <td>1</td>\n",
              "    </tr>\n",
              "    <tr>\n",
              "      <th>7</th>\n",
              "      <td>z122wfnzgt30fhubn04cdn3xfx2mxzngsl40k</td>\n",
              "      <td>Bob Kanowski</td>\n",
              "      <td>2013-11-28T12:33:27</td>\n",
              "      <td>i turned it on mute as soon is i came on i jus...</td>\n",
              "      <td>0</td>\n",
              "    </tr>\n",
              "    <tr>\n",
              "      <th>8</th>\n",
              "      <td>z13ttt1jcraqexk2o234ghbgzxymz1zzi04</td>\n",
              "      <td>Cony</td>\n",
              "      <td>2013-11-28T16:01:47</td>\n",
              "      <td>You should check my channel for Funny VIDEOS!!﻿</td>\n",
              "      <td>1</td>\n",
              "    </tr>\n",
              "    <tr>\n",
              "      <th>9</th>\n",
              "      <td>z12avveb4xqiirsix04chxviiljryduwxg0</td>\n",
              "      <td>BeBe Burkey</td>\n",
              "      <td>2013-11-28T16:30:13</td>\n",
              "      <td>and u should.d check my channel and tell me wh...</td>\n",
              "      <td>1</td>\n",
              "    </tr>\n",
              "  </tbody>\n",
              "</table>\n",
              "</div>\n",
              "    <div class=\"colab-df-buttons\">\n",
              "\n",
              "  <div class=\"colab-df-container\">\n",
              "    <button class=\"colab-df-convert\" onclick=\"convertToInteractive('df-ad10a908-a2bf-49a9-b5fe-57fe7ca4d24b')\"\n",
              "            title=\"Convert this dataframe to an interactive table.\"\n",
              "            style=\"display:none;\">\n",
              "\n",
              "  <svg xmlns=\"http://www.w3.org/2000/svg\" height=\"24px\" viewBox=\"0 -960 960 960\">\n",
              "    <path d=\"M120-120v-720h720v720H120Zm60-500h600v-160H180v160Zm220 220h160v-160H400v160Zm0 220h160v-160H400v160ZM180-400h160v-160H180v160Zm440 0h160v-160H620v160ZM180-180h160v-160H180v160Zm440 0h160v-160H620v160Z\"/>\n",
              "  </svg>\n",
              "    </button>\n",
              "\n",
              "  <style>\n",
              "    .colab-df-container {\n",
              "      display:flex;\n",
              "      gap: 12px;\n",
              "    }\n",
              "\n",
              "    .colab-df-convert {\n",
              "      background-color: #E8F0FE;\n",
              "      border: none;\n",
              "      border-radius: 50%;\n",
              "      cursor: pointer;\n",
              "      display: none;\n",
              "      fill: #1967D2;\n",
              "      height: 32px;\n",
              "      padding: 0 0 0 0;\n",
              "      width: 32px;\n",
              "    }\n",
              "\n",
              "    .colab-df-convert:hover {\n",
              "      background-color: #E2EBFA;\n",
              "      box-shadow: 0px 1px 2px rgba(60, 64, 67, 0.3), 0px 1px 3px 1px rgba(60, 64, 67, 0.15);\n",
              "      fill: #174EA6;\n",
              "    }\n",
              "\n",
              "    .colab-df-buttons div {\n",
              "      margin-bottom: 4px;\n",
              "    }\n",
              "\n",
              "    [theme=dark] .colab-df-convert {\n",
              "      background-color: #3B4455;\n",
              "      fill: #D2E3FC;\n",
              "    }\n",
              "\n",
              "    [theme=dark] .colab-df-convert:hover {\n",
              "      background-color: #434B5C;\n",
              "      box-shadow: 0px 1px 3px 1px rgba(0, 0, 0, 0.15);\n",
              "      filter: drop-shadow(0px 1px 2px rgba(0, 0, 0, 0.3));\n",
              "      fill: #FFFFFF;\n",
              "    }\n",
              "  </style>\n",
              "\n",
              "    <script>\n",
              "      const buttonEl =\n",
              "        document.querySelector('#df-ad10a908-a2bf-49a9-b5fe-57fe7ca4d24b button.colab-df-convert');\n",
              "      buttonEl.style.display =\n",
              "        google.colab.kernel.accessAllowed ? 'block' : 'none';\n",
              "\n",
              "      async function convertToInteractive(key) {\n",
              "        const element = document.querySelector('#df-ad10a908-a2bf-49a9-b5fe-57fe7ca4d24b');\n",
              "        const dataTable =\n",
              "          await google.colab.kernel.invokeFunction('convertToInteractive',\n",
              "                                                    [key], {});\n",
              "        if (!dataTable) return;\n",
              "\n",
              "        const docLinkHtml = 'Like what you see? Visit the ' +\n",
              "          '<a target=\"_blank\" href=https://colab.research.google.com/notebooks/data_table.ipynb>data table notebook</a>'\n",
              "          + ' to learn more about interactive tables.';\n",
              "        element.innerHTML = '';\n",
              "        dataTable['output_type'] = 'display_data';\n",
              "        await google.colab.output.renderOutput(dataTable, element);\n",
              "        const docLink = document.createElement('div');\n",
              "        docLink.innerHTML = docLinkHtml;\n",
              "        element.appendChild(docLink);\n",
              "      }\n",
              "    </script>\n",
              "  </div>\n",
              "\n",
              "\n",
              "<div id=\"df-7d1a3f0a-1bc3-49b4-97db-6e23a3ef5a17\">\n",
              "  <button class=\"colab-df-quickchart\" onclick=\"quickchart('df-7d1a3f0a-1bc3-49b4-97db-6e23a3ef5a17')\"\n",
              "            title=\"Suggest charts\"\n",
              "            style=\"display:none;\">\n",
              "\n",
              "<svg xmlns=\"http://www.w3.org/2000/svg\" height=\"24px\"viewBox=\"0 0 24 24\"\n",
              "     width=\"24px\">\n",
              "    <g>\n",
              "        <path d=\"M19 3H5c-1.1 0-2 .9-2 2v14c0 1.1.9 2 2 2h14c1.1 0 2-.9 2-2V5c0-1.1-.9-2-2-2zM9 17H7v-7h2v7zm4 0h-2V7h2v10zm4 0h-2v-4h2v4z\"/>\n",
              "    </g>\n",
              "</svg>\n",
              "  </button>\n",
              "\n",
              "<style>\n",
              "  .colab-df-quickchart {\n",
              "      --bg-color: #E8F0FE;\n",
              "      --fill-color: #1967D2;\n",
              "      --hover-bg-color: #E2EBFA;\n",
              "      --hover-fill-color: #174EA6;\n",
              "      --disabled-fill-color: #AAA;\n",
              "      --disabled-bg-color: #DDD;\n",
              "  }\n",
              "\n",
              "  [theme=dark] .colab-df-quickchart {\n",
              "      --bg-color: #3B4455;\n",
              "      --fill-color: #D2E3FC;\n",
              "      --hover-bg-color: #434B5C;\n",
              "      --hover-fill-color: #FFFFFF;\n",
              "      --disabled-bg-color: #3B4455;\n",
              "      --disabled-fill-color: #666;\n",
              "  }\n",
              "\n",
              "  .colab-df-quickchart {\n",
              "    background-color: var(--bg-color);\n",
              "    border: none;\n",
              "    border-radius: 50%;\n",
              "    cursor: pointer;\n",
              "    display: none;\n",
              "    fill: var(--fill-color);\n",
              "    height: 32px;\n",
              "    padding: 0;\n",
              "    width: 32px;\n",
              "  }\n",
              "\n",
              "  .colab-df-quickchart:hover {\n",
              "    background-color: var(--hover-bg-color);\n",
              "    box-shadow: 0 1px 2px rgba(60, 64, 67, 0.3), 0 1px 3px 1px rgba(60, 64, 67, 0.15);\n",
              "    fill: var(--button-hover-fill-color);\n",
              "  }\n",
              "\n",
              "  .colab-df-quickchart-complete:disabled,\n",
              "  .colab-df-quickchart-complete:disabled:hover {\n",
              "    background-color: var(--disabled-bg-color);\n",
              "    fill: var(--disabled-fill-color);\n",
              "    box-shadow: none;\n",
              "  }\n",
              "\n",
              "  .colab-df-spinner {\n",
              "    border: 2px solid var(--fill-color);\n",
              "    border-color: transparent;\n",
              "    border-bottom-color: var(--fill-color);\n",
              "    animation:\n",
              "      spin 1s steps(1) infinite;\n",
              "  }\n",
              "\n",
              "  @keyframes spin {\n",
              "    0% {\n",
              "      border-color: transparent;\n",
              "      border-bottom-color: var(--fill-color);\n",
              "      border-left-color: var(--fill-color);\n",
              "    }\n",
              "    20% {\n",
              "      border-color: transparent;\n",
              "      border-left-color: var(--fill-color);\n",
              "      border-top-color: var(--fill-color);\n",
              "    }\n",
              "    30% {\n",
              "      border-color: transparent;\n",
              "      border-left-color: var(--fill-color);\n",
              "      border-top-color: var(--fill-color);\n",
              "      border-right-color: var(--fill-color);\n",
              "    }\n",
              "    40% {\n",
              "      border-color: transparent;\n",
              "      border-right-color: var(--fill-color);\n",
              "      border-top-color: var(--fill-color);\n",
              "    }\n",
              "    60% {\n",
              "      border-color: transparent;\n",
              "      border-right-color: var(--fill-color);\n",
              "    }\n",
              "    80% {\n",
              "      border-color: transparent;\n",
              "      border-right-color: var(--fill-color);\n",
              "      border-bottom-color: var(--fill-color);\n",
              "    }\n",
              "    90% {\n",
              "      border-color: transparent;\n",
              "      border-bottom-color: var(--fill-color);\n",
              "    }\n",
              "  }\n",
              "</style>\n",
              "\n",
              "  <script>\n",
              "    async function quickchart(key) {\n",
              "      const quickchartButtonEl =\n",
              "        document.querySelector('#' + key + ' button');\n",
              "      quickchartButtonEl.disabled = true;  // To prevent multiple clicks.\n",
              "      quickchartButtonEl.classList.add('colab-df-spinner');\n",
              "      try {\n",
              "        const charts = await google.colab.kernel.invokeFunction(\n",
              "            'suggestCharts', [key], {});\n",
              "      } catch (error) {\n",
              "        console.error('Error during call to suggestCharts:', error);\n",
              "      }\n",
              "      quickchartButtonEl.classList.remove('colab-df-spinner');\n",
              "      quickchartButtonEl.classList.add('colab-df-quickchart-complete');\n",
              "    }\n",
              "    (() => {\n",
              "      let quickchartButtonEl =\n",
              "        document.querySelector('#df-7d1a3f0a-1bc3-49b4-97db-6e23a3ef5a17 button');\n",
              "      quickchartButtonEl.style.display =\n",
              "        google.colab.kernel.accessAllowed ? 'block' : 'none';\n",
              "    })();\n",
              "  </script>\n",
              "</div>\n",
              "    </div>\n",
              "  </div>\n"
            ],
            "application/vnd.google.colaboratory.intrinsic+json": {
              "type": "dataframe",
              "variable_name": "data",
              "summary": "{\n  \"name\": \"data\",\n  \"rows\": 350,\n  \"fields\": [\n    {\n      \"column\": \"COMMENT_ID\",\n      \"properties\": {\n        \"dtype\": \"string\",\n        \"num_unique_values\": 350,\n        \"samples\": [\n          \"z12lg1vizrmsgxm3q23oij4aqrjxjdd1p\",\n          \"z13qyxk5tzq1e5asx22xjt3wdq3ns32f5\",\n          \"z12ig3jrnlfvsthaa04chjkrply5zligbdg\"\n        ],\n        \"semantic_type\": \"\",\n        \"description\": \"\"\n      }\n    },\n    {\n      \"column\": \"AUTHOR\",\n      \"properties\": {\n        \"dtype\": \"string\",\n        \"num_unique_values\": 345,\n        \"samples\": [\n          \"Romeo Sweeney\",\n          \"thevlogmasters Vlog, Challenges en nog veel meer!\",\n          \"Oopsthenameistoolong Oh well\"\n        ],\n        \"semantic_type\": \"\",\n        \"description\": \"\"\n      }\n    },\n    {\n      \"column\": \"DATE\",\n      \"properties\": {\n        \"dtype\": \"object\",\n        \"num_unique_values\": 350,\n        \"samples\": [\n          \"2014-11-06T13:41:30\",\n          \"2014-11-14T11:50:02\",\n          \"2014-11-12T05:46:27\"\n        ],\n        \"semantic_type\": \"\",\n        \"description\": \"\"\n      }\n    },\n    {\n      \"column\": \"CONTENT\",\n      \"properties\": {\n        \"dtype\": \"string\",\n        \"num_unique_values\": 349,\n        \"samples\": [\n          \"\\ud83d\\ude2b\\ud83d\\ude13\\ud83d\\ude0f\\ud83d\\ude2a\\ud83d\\ude14\\ud83d\\ude16\\ud83d\\ude0c\\ud83d\\ude2d\\ud83d\\ude0e\\ud83d\\ude1a\\ud83d\\ude18\\ud83d\\ude19\\ud83d\\ude17\\ud83d\\ude0b\\ud83d\\ude1d\\ud83d\\ude1c\\ud83d\\ude1b\\ud83d\\ude0d\\ud83d\\ude12\\ud83d\\ude1e\\ud83d\\ude37\\ud83d\\ude36\\ud83d\\ude35\\ud83d\\ude33\\ud83d\\ude32\\ud83d\\ude31\\ud83d\\ude1f\\ud83d\\ude30\\ud83d\\ude29\\ud83d\\ude28\\ud83d\\ude27\\ud83d\\ude26\\ud83d\\ude25\\ud83d\\ude24\\ud83d\\ude23\\ud83d\\ude2e\\ud83d\\ude34\\ud83d\\ude22\\ud83d\\ude21\\ud83d\\ude20\\ud83d\\ude2c\\ud83d\\ude15\\ud83d\\ude11\\ud83d\\ude10\\ud83d\\ude2f\\ud83d\\ude09\\ud83d\\ude08\\ud83d\\ude07\\ud83d\\ude06\\ud83d\\ude05\\ud83d\\ude04\\ud83d\\ude03\\ud83d\\ude02\\ud83d\\ude01\\ud83d\\ude00\\ud83d\\ude0a\\u263a  every single types of face on earth\\ufeff\",\n          \"Why does a song like this have more views than Michael Jackson SMH\\ufeff\",\n          \"just came to check the view count\\ufeff\"\n        ],\n        \"semantic_type\": \"\",\n        \"description\": \"\"\n      }\n    },\n    {\n      \"column\": \"CLASS\",\n      \"properties\": {\n        \"dtype\": \"number\",\n        \"std\": 0,\n        \"min\": 0,\n        \"max\": 1,\n        \"num_unique_values\": 2,\n        \"samples\": [\n          0,\n          1\n        ],\n        \"semantic_type\": \"\",\n        \"description\": \"\"\n      }\n    }\n  ]\n}"
            }
          },
          "metadata": {},
          "execution_count": 130
        }
      ]
    },
    {
      "cell_type": "markdown",
      "source": [
        "Data Successfully loaded"
      ],
      "metadata": {
        "id": "ySnKfjXGXv1y"
      }
    },
    {
      "cell_type": "code",
      "source": [
        "data.tail(10)"
      ],
      "metadata": {
        "colab": {
          "base_uri": "https://localhost:8080/",
          "height": 0
        },
        "id": "-EMydQYlFI72",
        "outputId": "57722928-d1e7-47ee-adb7-3e9279018282"
      },
      "execution_count": 131,
      "outputs": [
        {
          "output_type": "execute_result",
          "data": {
            "text/plain": [
              "                                COMMENT_ID  \\\n",
              "340  z12exzcrvpeew1yxg04cd5tbwnmfubnh4kk0k   \n",
              "341      z13qyxk5tzq1e5asx22xjt3wdq3ns32f5   \n",
              "342  z12uyzhazxqkzbrzz04cedqpkwzdvjyy3u40k   \n",
              "343  z13sh3cz1kbqgrai504cf53qsq25ypmi5zs0k   \n",
              "344      z12etrpq5xu0vnm2g230szo5ote3zviny   \n",
              "345      z13th1q4yzihf1bll23qxzpjeujterydj   \n",
              "346  z13fcn1wfpb5e51xe04chdxakpzgchyaxzo0k   \n",
              "347    z130zd5b3titudkoe04ccbeohojxuzppvbg   \n",
              "348    z12he50arvrkivl5u04cctawgxzkjfsjcc4   \n",
              "349  z13vhvu54u3ewpp5h04ccb4zuoardrmjlyk0k   \n",
              "\n",
              "                                   AUTHOR                 DATE  \\\n",
              "340                            Anthony1SV  2014-11-14T00:01:37   \n",
              "341                         Ameenk Chanel  2014-11-14T11:50:02   \n",
              "342                        Brandon Wilson  2014-11-14T12:21:52   \n",
              "343                      Leonel Hernandez  2014-11-14T12:35:38   \n",
              "344                           InterGaming  2014-11-14T13:16:24   \n",
              "345                       Carmen Racasanu  2014-11-14T13:27:52   \n",
              "346                       diego mogrovejo  2014-11-14T13:28:08   \n",
              "347  BlueYetiPlayz -Call Of Duty and More  2015-05-23T13:04:32   \n",
              "348                          Photo Editor  2015-06-05T14:14:48   \n",
              "349                            Ray Benich  2015-06-05T18:05:16   \n",
              "\n",
              "                                               CONTENT  CLASS  \n",
              "340  Please do buy these new Christmas shirts! You ...      1  \n",
              "341  Free my apps get 1m crdits ! Just click on the...      1  \n",
              "342  Why does a song like this have more views than...      0  \n",
              "343   Something to dance to, even if your sad JUST ...      0  \n",
              "344  everyones back lool this is almost 3 years old...      0  \n",
              "345  How can this have 2 billion views when there's...      0  \n",
              "346         I don't now why I'm watching this in 2014﻿      0  \n",
              "347  subscribe to me for call of duty vids and give...      1  \n",
              "348  hi guys please my android photo editor downloa...      1  \n",
              "349  The first billion viewed this because they tho...      0  "
            ],
            "text/html": [
              "\n",
              "  <div id=\"df-7c27710e-d20c-47e9-9112-e82689c498b5\" class=\"colab-df-container\">\n",
              "    <div>\n",
              "<style scoped>\n",
              "    .dataframe tbody tr th:only-of-type {\n",
              "        vertical-align: middle;\n",
              "    }\n",
              "\n",
              "    .dataframe tbody tr th {\n",
              "        vertical-align: top;\n",
              "    }\n",
              "\n",
              "    .dataframe thead th {\n",
              "        text-align: right;\n",
              "    }\n",
              "</style>\n",
              "<table border=\"1\" class=\"dataframe\">\n",
              "  <thead>\n",
              "    <tr style=\"text-align: right;\">\n",
              "      <th></th>\n",
              "      <th>COMMENT_ID</th>\n",
              "      <th>AUTHOR</th>\n",
              "      <th>DATE</th>\n",
              "      <th>CONTENT</th>\n",
              "      <th>CLASS</th>\n",
              "    </tr>\n",
              "  </thead>\n",
              "  <tbody>\n",
              "    <tr>\n",
              "      <th>340</th>\n",
              "      <td>z12exzcrvpeew1yxg04cd5tbwnmfubnh4kk0k</td>\n",
              "      <td>Anthony1SV</td>\n",
              "      <td>2014-11-14T00:01:37</td>\n",
              "      <td>Please do buy these new Christmas shirts! You ...</td>\n",
              "      <td>1</td>\n",
              "    </tr>\n",
              "    <tr>\n",
              "      <th>341</th>\n",
              "      <td>z13qyxk5tzq1e5asx22xjt3wdq3ns32f5</td>\n",
              "      <td>Ameenk Chanel</td>\n",
              "      <td>2014-11-14T11:50:02</td>\n",
              "      <td>Free my apps get 1m crdits ! Just click on the...</td>\n",
              "      <td>1</td>\n",
              "    </tr>\n",
              "    <tr>\n",
              "      <th>342</th>\n",
              "      <td>z12uyzhazxqkzbrzz04cedqpkwzdvjyy3u40k</td>\n",
              "      <td>Brandon Wilson</td>\n",
              "      <td>2014-11-14T12:21:52</td>\n",
              "      <td>Why does a song like this have more views than...</td>\n",
              "      <td>0</td>\n",
              "    </tr>\n",
              "    <tr>\n",
              "      <th>343</th>\n",
              "      <td>z13sh3cz1kbqgrai504cf53qsq25ypmi5zs0k</td>\n",
              "      <td>Leonel Hernandez</td>\n",
              "      <td>2014-11-14T12:35:38</td>\n",
              "      <td>Something to dance to, even if your sad JUST ...</td>\n",
              "      <td>0</td>\n",
              "    </tr>\n",
              "    <tr>\n",
              "      <th>344</th>\n",
              "      <td>z12etrpq5xu0vnm2g230szo5ote3zviny</td>\n",
              "      <td>InterGaming</td>\n",
              "      <td>2014-11-14T13:16:24</td>\n",
              "      <td>everyones back lool this is almost 3 years old...</td>\n",
              "      <td>0</td>\n",
              "    </tr>\n",
              "    <tr>\n",
              "      <th>345</th>\n",
              "      <td>z13th1q4yzihf1bll23qxzpjeujterydj</td>\n",
              "      <td>Carmen Racasanu</td>\n",
              "      <td>2014-11-14T13:27:52</td>\n",
              "      <td>How can this have 2 billion views when there's...</td>\n",
              "      <td>0</td>\n",
              "    </tr>\n",
              "    <tr>\n",
              "      <th>346</th>\n",
              "      <td>z13fcn1wfpb5e51xe04chdxakpzgchyaxzo0k</td>\n",
              "      <td>diego mogrovejo</td>\n",
              "      <td>2014-11-14T13:28:08</td>\n",
              "      <td>I don't now why I'm watching this in 2014﻿</td>\n",
              "      <td>0</td>\n",
              "    </tr>\n",
              "    <tr>\n",
              "      <th>347</th>\n",
              "      <td>z130zd5b3titudkoe04ccbeohojxuzppvbg</td>\n",
              "      <td>BlueYetiPlayz -Call Of Duty and More</td>\n",
              "      <td>2015-05-23T13:04:32</td>\n",
              "      <td>subscribe to me for call of duty vids and give...</td>\n",
              "      <td>1</td>\n",
              "    </tr>\n",
              "    <tr>\n",
              "      <th>348</th>\n",
              "      <td>z12he50arvrkivl5u04cctawgxzkjfsjcc4</td>\n",
              "      <td>Photo Editor</td>\n",
              "      <td>2015-06-05T14:14:48</td>\n",
              "      <td>hi guys please my android photo editor downloa...</td>\n",
              "      <td>1</td>\n",
              "    </tr>\n",
              "    <tr>\n",
              "      <th>349</th>\n",
              "      <td>z13vhvu54u3ewpp5h04ccb4zuoardrmjlyk0k</td>\n",
              "      <td>Ray Benich</td>\n",
              "      <td>2015-06-05T18:05:16</td>\n",
              "      <td>The first billion viewed this because they tho...</td>\n",
              "      <td>0</td>\n",
              "    </tr>\n",
              "  </tbody>\n",
              "</table>\n",
              "</div>\n",
              "    <div class=\"colab-df-buttons\">\n",
              "\n",
              "  <div class=\"colab-df-container\">\n",
              "    <button class=\"colab-df-convert\" onclick=\"convertToInteractive('df-7c27710e-d20c-47e9-9112-e82689c498b5')\"\n",
              "            title=\"Convert this dataframe to an interactive table.\"\n",
              "            style=\"display:none;\">\n",
              "\n",
              "  <svg xmlns=\"http://www.w3.org/2000/svg\" height=\"24px\" viewBox=\"0 -960 960 960\">\n",
              "    <path d=\"M120-120v-720h720v720H120Zm60-500h600v-160H180v160Zm220 220h160v-160H400v160Zm0 220h160v-160H400v160ZM180-400h160v-160H180v160Zm440 0h160v-160H620v160ZM180-180h160v-160H180v160Zm440 0h160v-160H620v160Z\"/>\n",
              "  </svg>\n",
              "    </button>\n",
              "\n",
              "  <style>\n",
              "    .colab-df-container {\n",
              "      display:flex;\n",
              "      gap: 12px;\n",
              "    }\n",
              "\n",
              "    .colab-df-convert {\n",
              "      background-color: #E8F0FE;\n",
              "      border: none;\n",
              "      border-radius: 50%;\n",
              "      cursor: pointer;\n",
              "      display: none;\n",
              "      fill: #1967D2;\n",
              "      height: 32px;\n",
              "      padding: 0 0 0 0;\n",
              "      width: 32px;\n",
              "    }\n",
              "\n",
              "    .colab-df-convert:hover {\n",
              "      background-color: #E2EBFA;\n",
              "      box-shadow: 0px 1px 2px rgba(60, 64, 67, 0.3), 0px 1px 3px 1px rgba(60, 64, 67, 0.15);\n",
              "      fill: #174EA6;\n",
              "    }\n",
              "\n",
              "    .colab-df-buttons div {\n",
              "      margin-bottom: 4px;\n",
              "    }\n",
              "\n",
              "    [theme=dark] .colab-df-convert {\n",
              "      background-color: #3B4455;\n",
              "      fill: #D2E3FC;\n",
              "    }\n",
              "\n",
              "    [theme=dark] .colab-df-convert:hover {\n",
              "      background-color: #434B5C;\n",
              "      box-shadow: 0px 1px 3px 1px rgba(0, 0, 0, 0.15);\n",
              "      filter: drop-shadow(0px 1px 2px rgba(0, 0, 0, 0.3));\n",
              "      fill: #FFFFFF;\n",
              "    }\n",
              "  </style>\n",
              "\n",
              "    <script>\n",
              "      const buttonEl =\n",
              "        document.querySelector('#df-7c27710e-d20c-47e9-9112-e82689c498b5 button.colab-df-convert');\n",
              "      buttonEl.style.display =\n",
              "        google.colab.kernel.accessAllowed ? 'block' : 'none';\n",
              "\n",
              "      async function convertToInteractive(key) {\n",
              "        const element = document.querySelector('#df-7c27710e-d20c-47e9-9112-e82689c498b5');\n",
              "        const dataTable =\n",
              "          await google.colab.kernel.invokeFunction('convertToInteractive',\n",
              "                                                    [key], {});\n",
              "        if (!dataTable) return;\n",
              "\n",
              "        const docLinkHtml = 'Like what you see? Visit the ' +\n",
              "          '<a target=\"_blank\" href=https://colab.research.google.com/notebooks/data_table.ipynb>data table notebook</a>'\n",
              "          + ' to learn more about interactive tables.';\n",
              "        element.innerHTML = '';\n",
              "        dataTable['output_type'] = 'display_data';\n",
              "        await google.colab.output.renderOutput(dataTable, element);\n",
              "        const docLink = document.createElement('div');\n",
              "        docLink.innerHTML = docLinkHtml;\n",
              "        element.appendChild(docLink);\n",
              "      }\n",
              "    </script>\n",
              "  </div>\n",
              "\n",
              "\n",
              "<div id=\"df-1ac65dea-f1b9-4271-9171-e554d86bc2bf\">\n",
              "  <button class=\"colab-df-quickchart\" onclick=\"quickchart('df-1ac65dea-f1b9-4271-9171-e554d86bc2bf')\"\n",
              "            title=\"Suggest charts\"\n",
              "            style=\"display:none;\">\n",
              "\n",
              "<svg xmlns=\"http://www.w3.org/2000/svg\" height=\"24px\"viewBox=\"0 0 24 24\"\n",
              "     width=\"24px\">\n",
              "    <g>\n",
              "        <path d=\"M19 3H5c-1.1 0-2 .9-2 2v14c0 1.1.9 2 2 2h14c1.1 0 2-.9 2-2V5c0-1.1-.9-2-2-2zM9 17H7v-7h2v7zm4 0h-2V7h2v10zm4 0h-2v-4h2v4z\"/>\n",
              "    </g>\n",
              "</svg>\n",
              "  </button>\n",
              "\n",
              "<style>\n",
              "  .colab-df-quickchart {\n",
              "      --bg-color: #E8F0FE;\n",
              "      --fill-color: #1967D2;\n",
              "      --hover-bg-color: #E2EBFA;\n",
              "      --hover-fill-color: #174EA6;\n",
              "      --disabled-fill-color: #AAA;\n",
              "      --disabled-bg-color: #DDD;\n",
              "  }\n",
              "\n",
              "  [theme=dark] .colab-df-quickchart {\n",
              "      --bg-color: #3B4455;\n",
              "      --fill-color: #D2E3FC;\n",
              "      --hover-bg-color: #434B5C;\n",
              "      --hover-fill-color: #FFFFFF;\n",
              "      --disabled-bg-color: #3B4455;\n",
              "      --disabled-fill-color: #666;\n",
              "  }\n",
              "\n",
              "  .colab-df-quickchart {\n",
              "    background-color: var(--bg-color);\n",
              "    border: none;\n",
              "    border-radius: 50%;\n",
              "    cursor: pointer;\n",
              "    display: none;\n",
              "    fill: var(--fill-color);\n",
              "    height: 32px;\n",
              "    padding: 0;\n",
              "    width: 32px;\n",
              "  }\n",
              "\n",
              "  .colab-df-quickchart:hover {\n",
              "    background-color: var(--hover-bg-color);\n",
              "    box-shadow: 0 1px 2px rgba(60, 64, 67, 0.3), 0 1px 3px 1px rgba(60, 64, 67, 0.15);\n",
              "    fill: var(--button-hover-fill-color);\n",
              "  }\n",
              "\n",
              "  .colab-df-quickchart-complete:disabled,\n",
              "  .colab-df-quickchart-complete:disabled:hover {\n",
              "    background-color: var(--disabled-bg-color);\n",
              "    fill: var(--disabled-fill-color);\n",
              "    box-shadow: none;\n",
              "  }\n",
              "\n",
              "  .colab-df-spinner {\n",
              "    border: 2px solid var(--fill-color);\n",
              "    border-color: transparent;\n",
              "    border-bottom-color: var(--fill-color);\n",
              "    animation:\n",
              "      spin 1s steps(1) infinite;\n",
              "  }\n",
              "\n",
              "  @keyframes spin {\n",
              "    0% {\n",
              "      border-color: transparent;\n",
              "      border-bottom-color: var(--fill-color);\n",
              "      border-left-color: var(--fill-color);\n",
              "    }\n",
              "    20% {\n",
              "      border-color: transparent;\n",
              "      border-left-color: var(--fill-color);\n",
              "      border-top-color: var(--fill-color);\n",
              "    }\n",
              "    30% {\n",
              "      border-color: transparent;\n",
              "      border-left-color: var(--fill-color);\n",
              "      border-top-color: var(--fill-color);\n",
              "      border-right-color: var(--fill-color);\n",
              "    }\n",
              "    40% {\n",
              "      border-color: transparent;\n",
              "      border-right-color: var(--fill-color);\n",
              "      border-top-color: var(--fill-color);\n",
              "    }\n",
              "    60% {\n",
              "      border-color: transparent;\n",
              "      border-right-color: var(--fill-color);\n",
              "    }\n",
              "    80% {\n",
              "      border-color: transparent;\n",
              "      border-right-color: var(--fill-color);\n",
              "      border-bottom-color: var(--fill-color);\n",
              "    }\n",
              "    90% {\n",
              "      border-color: transparent;\n",
              "      border-bottom-color: var(--fill-color);\n",
              "    }\n",
              "  }\n",
              "</style>\n",
              "\n",
              "  <script>\n",
              "    async function quickchart(key) {\n",
              "      const quickchartButtonEl =\n",
              "        document.querySelector('#' + key + ' button');\n",
              "      quickchartButtonEl.disabled = true;  // To prevent multiple clicks.\n",
              "      quickchartButtonEl.classList.add('colab-df-spinner');\n",
              "      try {\n",
              "        const charts = await google.colab.kernel.invokeFunction(\n",
              "            'suggestCharts', [key], {});\n",
              "      } catch (error) {\n",
              "        console.error('Error during call to suggestCharts:', error);\n",
              "      }\n",
              "      quickchartButtonEl.classList.remove('colab-df-spinner');\n",
              "      quickchartButtonEl.classList.add('colab-df-quickchart-complete');\n",
              "    }\n",
              "    (() => {\n",
              "      let quickchartButtonEl =\n",
              "        document.querySelector('#df-1ac65dea-f1b9-4271-9171-e554d86bc2bf button');\n",
              "      quickchartButtonEl.style.display =\n",
              "        google.colab.kernel.accessAllowed ? 'block' : 'none';\n",
              "    })();\n",
              "  </script>\n",
              "</div>\n",
              "    </div>\n",
              "  </div>\n"
            ],
            "application/vnd.google.colaboratory.intrinsic+json": {
              "type": "dataframe",
              "repr_error": "0"
            }
          },
          "metadata": {},
          "execution_count": 131
        }
      ]
    },
    {
      "cell_type": "code",
      "source": [
        "data.info()"
      ],
      "metadata": {
        "colab": {
          "base_uri": "https://localhost:8080/"
        },
        "id": "6DDyksqfzZ1f",
        "outputId": "6fed2b43-8651-4f11-8cb3-5d0acbc9e778"
      },
      "execution_count": 132,
      "outputs": [
        {
          "output_type": "stream",
          "name": "stdout",
          "text": [
            "<class 'pandas.core.frame.DataFrame'>\n",
            "RangeIndex: 350 entries, 0 to 349\n",
            "Data columns (total 5 columns):\n",
            " #   Column      Non-Null Count  Dtype \n",
            "---  ------      --------------  ----- \n",
            " 0   COMMENT_ID  350 non-null    object\n",
            " 1   AUTHOR      350 non-null    object\n",
            " 2   DATE        350 non-null    object\n",
            " 3   CONTENT     350 non-null    object\n",
            " 4   CLASS       350 non-null    int64 \n",
            "dtypes: int64(1), object(4)\n",
            "memory usage: 13.8+ KB\n"
          ]
        }
      ]
    },
    {
      "cell_type": "markdown",
      "source": [
        "Diketahui :  \n",
        "- memiliki 350 row data\n",
        "- memiliki 5 kolom\n",
        "- memiliki 4 tipe data string dan 1 tipe data integer"
      ],
      "metadata": {
        "id": "St5kYJ8Mzv2T"
      }
    },
    {
      "cell_type": "code",
      "source": [
        "data.duplicated().sum()"
      ],
      "metadata": {
        "colab": {
          "base_uri": "https://localhost:8080/"
        },
        "id": "7T9Z7o6CzcHb",
        "outputId": "303b99eb-c297-4f10-9171-8976fdecdb18"
      },
      "execution_count": 133,
      "outputs": [
        {
          "output_type": "execute_result",
          "data": {
            "text/plain": [
              "0"
            ]
          },
          "metadata": {},
          "execution_count": 133
        }
      ]
    },
    {
      "cell_type": "markdown",
      "source": [
        "Tidak memiliki data duplikat"
      ],
      "metadata": {
        "id": "BC6-88jd0CnF"
      }
    },
    {
      "cell_type": "code",
      "source": [
        "data.isnull().sum()"
      ],
      "metadata": {
        "colab": {
          "base_uri": "https://localhost:8080/"
        },
        "id": "YFLL9YBYzpiB",
        "outputId": "5298dbb6-a2b8-40f0-d4e6-54f5fb52f1c2"
      },
      "execution_count": 134,
      "outputs": [
        {
          "output_type": "execute_result",
          "data": {
            "text/plain": [
              "COMMENT_ID    0\n",
              "AUTHOR        0\n",
              "DATE          0\n",
              "CONTENT       0\n",
              "CLASS         0\n",
              "dtype: int64"
            ]
          },
          "metadata": {},
          "execution_count": 134
        }
      ]
    },
    {
      "cell_type": "markdown",
      "source": [
        "Tidak memiliki missing value"
      ],
      "metadata": {
        "id": "TUSDFFcS0FRX"
      }
    },
    {
      "cell_type": "markdown",
      "source": [
        "## Explanatory Data Analysis (EDA)"
      ],
      "metadata": {
        "id": "SxzJmbrtum2T"
      }
    },
    {
      "cell_type": "code",
      "source": [
        "# Combines all tweet text into one string\n",
        "all_headline_text = ' '.join(data['CONTENT'])\n",
        "\n",
        "# Create WordCloud\n",
        "wordcloud = WordCloud(width=800, height=400, background_color='black', min_font_size=10, max_words=50).generate(all_headline_text)\n",
        "\n",
        "# Displays WordCloud\n",
        "plt.figure(figsize=(10, 5))\n",
        "plt.imshow(wordcloud, interpolation='bilinear')\n",
        "plt.axis(\"off\")\n",
        "plt.show()"
      ],
      "metadata": {
        "colab": {
          "base_uri": "https://localhost:8080/",
          "height": 0
        },
        "id": "JVfrIivgu2ci",
        "outputId": "d31f1b78-281b-4e00-8c2b-bfe3f939bf99"
      },
      "execution_count": 135,
      "outputs": [
        {
          "output_type": "display_data",
          "data": {
            "text/plain": [
              "<Figure size 1000x500 with 1 Axes>"
            ],
            "image/png": "[encoded data removed]"
          },
          "metadata": {}
        }
      ]
    },
    {
      "cell_type": "markdown",
      "source": [
        "Diketahui kata yang sering muncul yaitu `video`, `channel`, dan `check`"
      ],
      "metadata": {
        "id": "E5DjOEnr0RyA"
      }
    },
    {
      "cell_type": "code",
      "source": [
        "# Hitung distribusi nilai unik dalam kolom 'kategori'\n",
        "distribution = data['CLASS'].value_counts()\n",
        "\n",
        "# Buat pie chart\n",
        "plt.figure(figsize=(5, 5))  # Ukuran gambar\n",
        "plt.pie(distribution, labels=distribution.index, autopct='%1.1f%%', startangle=140)  # Autopct untuk menambahkan persentase, startangle untuk mengatur sudut awal\n",
        "plt.axis('equal')  # Agar lingkaran terlihat lingkaran sempurna\n",
        "plt.title('CLASS')  # Judul\n",
        "plt.show()  # Tampilkan pie chart"
      ],
      "metadata": {
        "colab": {
          "base_uri": "https://localhost:8080/",
          "height": 0
        },
        "id": "J4wZ9UtsvaJl",
        "outputId": "b6678fcd-fb01-46cb-8ef2-7a6c9d9fc2dc"
      },
      "execution_count": 136,
      "outputs": [
        {
          "output_type": "display_data",
          "data": {
            "text/plain": [
              "<Figure size 500x500 with 1 Axes>"
            ],
            "image/png": "[encoded data removed]"
          },
          "metadata": {}
        }
      ]
    },
    {
      "cell_type": "markdown",
      "source": [
        "Diketahui dari dataset memiliki jumlah data spam dan tidak spam yang sama rata yaitu sebesar 175"
      ],
      "metadata": {
        "id": "Ys80lRb80neQ"
      }
    },
    {
      "cell_type": "markdown",
      "source": [
        "## Feature Engineering"
      ],
      "metadata": {
        "id": "zEz4O5eN3rs1"
      }
    },
    {
      "cell_type": "markdown",
      "source": [
        "### Drop Unnecesarry Columns"
      ],
      "metadata": {
        "id": "waAt8IIcGysa"
      }
    },
    {
      "cell_type": "code",
      "source": [
        "# Drop Unneccesarry Columns\n",
        "n_columns = data.drop(columns= ['COMMENT_ID', 'AUTHOR', 'DATE'])\n",
        "\n",
        "# Create New Dataframe\n",
        "data = pd.DataFrame(n_columns)\n",
        "\n",
        "# Show Dataframe\n",
        "data"
      ],
      "metadata": {
        "colab": {
          "base_uri": "https://localhost:8080/",
          "height": 423
        },
        "id": "1EOYa0i2G3Iq",
        "outputId": "f5ca4408-2b87-42d6-9d52-c3d99256d550"
      },
      "execution_count": 137,
      "outputs": [
        {
          "output_type": "execute_result",
          "data": {
            "text/plain": [
              "                                               CONTENT  CLASS\n",
              "0    Huh, anyway check out this you[tube] channel: ...      1\n",
              "1    Hey guys check out my new channel and our firs...      1\n",
              "2               just for test I have to say murdev.com      1\n",
              "3     me shaking my sexy ass on my channel enjoy ^_^ ﻿      1\n",
              "4              watch?v=vtaRGgvGtWQ   Check this out .﻿      1\n",
              "..                                                 ...    ...\n",
              "345  How can this have 2 billion views when there's...      0\n",
              "346         I don't now why I'm watching this in 2014﻿      0\n",
              "347  subscribe to me for call of duty vids and give...      1\n",
              "348  hi guys please my android photo editor downloa...      1\n",
              "349  The first billion viewed this because they tho...      0\n",
              "\n",
              "[350 rows x 2 columns]"
            ],
            "text/html": [
              "\n",
              "  <div id=\"df-a9f1a569-8370-40a0-b081-775b28e7fdc9\" class=\"colab-df-container\">\n",
              "    <div>\n",
              "<style scoped>\n",
              "    .dataframe tbody tr th:only-of-type {\n",
              "        vertical-align: middle;\n",
              "    }\n",
              "\n",
              "    .dataframe tbody tr th {\n",
              "        vertical-align: top;\n",
              "    }\n",
              "\n",
              "    .dataframe thead th {\n",
              "        text-align: right;\n",
              "    }\n",
              "</style>\n",
              "<table border=\"1\" class=\"dataframe\">\n",
              "  <thead>\n",
              "    <tr style=\"text-align: right;\">\n",
              "      <th></th>\n",
              "      <th>CONTENT</th>\n",
              "      <th>CLASS</th>\n",
              "    </tr>\n",
              "  </thead>\n",
              "  <tbody>\n",
              "    <tr>\n",
              "      <th>0</th>\n",
              "      <td>Huh, anyway check out this you[tube] channel: ...</td>\n",
              "      <td>1</td>\n",
              "    </tr>\n",
              "    <tr>\n",
              "      <th>1</th>\n",
              "      <td>Hey guys check out my new channel and our firs...</td>\n",
              "      <td>1</td>\n",
              "    </tr>\n",
              "    <tr>\n",
              "      <th>2</th>\n",
              "      <td>just for test I have to say murdev.com</td>\n",
              "      <td>1</td>\n",
              "    </tr>\n",
              "    <tr>\n",
              "      <th>3</th>\n",
              "      <td>me shaking my sexy ass on my channel enjoy ^_^ ﻿</td>\n",
              "      <td>1</td>\n",
              "    </tr>\n",
              "    <tr>\n",
              "      <th>4</th>\n",
              "      <td>watch?v=vtaRGgvGtWQ   Check this out .﻿</td>\n",
              "      <td>1</td>\n",
              "    </tr>\n",
              "    <tr>\n",
              "      <th>...</th>\n",
              "      <td>...</td>\n",
              "      <td>...</td>\n",
              "    </tr>\n",
              "    <tr>\n",
              "      <th>345</th>\n",
              "      <td>How can this have 2 billion views when there's...</td>\n",
              "      <td>0</td>\n",
              "    </tr>\n",
              "    <tr>\n",
              "      <th>346</th>\n",
              "      <td>I don't now why I'm watching this in 2014﻿</td>\n",
              "      <td>0</td>\n",
              "    </tr>\n",
              "    <tr>\n",
              "      <th>347</th>\n",
              "      <td>subscribe to me for call of duty vids and give...</td>\n",
              "      <td>1</td>\n",
              "    </tr>\n",
              "    <tr>\n",
              "      <th>348</th>\n",
              "      <td>hi guys please my android photo editor downloa...</td>\n",
              "      <td>1</td>\n",
              "    </tr>\n",
              "    <tr>\n",
              "      <th>349</th>\n",
              "      <td>The first billion viewed this because they tho...</td>\n",
              "      <td>0</td>\n",
              "    </tr>\n",
              "  </tbody>\n",
              "</table>\n",
              "<p>350 rows × 2 columns</p>\n",
              "</div>\n",
              "    <div class=\"colab-df-buttons\">\n",
              "\n",
              "  <div class=\"colab-df-container\">\n",
              "    <button class=\"colab-df-convert\" onclick=\"convertToInteractive('df-a9f1a569-8370-40a0-b081-775b28e7fdc9')\"\n",
              "            title=\"Convert this dataframe to an interactive table.\"\n",
              "            style=\"display:none;\">\n",
              "\n",
              "  <svg xmlns=\"http://www.w3.org/2000/svg\" height=\"24px\" viewBox=\"0 -960 960 960\">\n",
              "    <path d=\"M120-120v-720h720v720H120Zm60-500h600v-160H180v160Zm220 220h160v-160H400v160Zm0 220h160v-160H400v160ZM180-400h160v-160H180v160Zm440 0h160v-160H620v160ZM180-180h160v-160H180v160Zm440 0h160v-160H620v160Z\"/>\n",
              "  </svg>\n",
              "    </button>\n",
              "\n",
              "  <style>\n",
              "    .colab-df-container {\n",
              "      display:flex;\n",
              "      gap: 12px;\n",
              "    }\n",
              "\n",
              "    .colab-df-convert {\n",
              "      background-color: #E8F0FE;\n",
              "      border: none;\n",
              "      border-radius: 50%;\n",
              "      cursor: pointer;\n",
              "      display: none;\n",
              "      fill: #1967D2;\n",
              "      height: 32px;\n",
              "      padding: 0 0 0 0;\n",
              "      width: 32px;\n",
              "    }\n",
              "\n",
              "    .colab-df-convert:hover {\n",
              "      background-color: #E2EBFA;\n",
              "      box-shadow: 0px 1px 2px rgba(60, 64, 67, 0.3), 0px 1px 3px 1px rgba(60, 64, 67, 0.15);\n",
              "      fill: #174EA6;\n",
              "    }\n",
              "\n",
              "    .colab-df-buttons div {\n",
              "      margin-bottom: 4px;\n",
              "    }\n",
              "\n",
              "    [theme=dark] .colab-df-convert {\n",
              "      background-color: #3B4455;\n",
              "      fill: #D2E3FC;\n",
              "    }\n",
              "\n",
              "    [theme=dark] .colab-df-convert:hover {\n",
              "      background-color: #434B5C;\n",
              "      box-shadow: 0px 1px 3px 1px rgba(0, 0, 0, 0.15);\n",
              "      filter: drop-shadow(0px 1px 2px rgba(0, 0, 0, 0.3));\n",
              "      fill: #FFFFFF;\n",
              "    }\n",
              "  </style>\n",
              "\n",
              "    <script>\n",
              "      const buttonEl =\n",
              "        document.querySelector('#df-a9f1a569-8370-40a0-b081-775b28e7fdc9 button.colab-df-convert');\n",
              "      buttonEl.style.display =\n",
              "        google.colab.kernel.accessAllowed ? 'block' : 'none';\n",
              "\n",
              "      async function convertToInteractive(key) {\n",
              "        const element = document.querySelector('#df-a9f1a569-8370-40a0-b081-775b28e7fdc9');\n",
              "        const dataTable =\n",
              "          await google.colab.kernel.invokeFunction('convertToInteractive',\n",
              "                                                    [key], {});\n",
              "        if (!dataTable) return;\n",
              "\n",
              "        const docLinkHtml = 'Like what you see? Visit the ' +\n",
              "          '<a target=\"_blank\" href=https://colab.research.google.com/notebooks/data_table.ipynb>data table notebook</a>'\n",
              "          + ' to learn more about interactive tables.';\n",
              "        element.innerHTML = '';\n",
              "        dataTable['output_type'] = 'display_data';\n",
              "        await google.colab.output.renderOutput(dataTable, element);\n",
              "        const docLink = document.createElement('div');\n",
              "        docLink.innerHTML = docLinkHtml;\n",
              "        element.appendChild(docLink);\n",
              "      }\n",
              "    </script>\n",
              "  </div>\n",
              "\n",
              "\n",
              "<div id=\"df-e3f5a824-1204-4412-b4b7-42fc5168868e\">\n",
              "  <button class=\"colab-df-quickchart\" onclick=\"quickchart('df-e3f5a824-1204-4412-b4b7-42fc5168868e')\"\n",
              "            title=\"Suggest charts\"\n",
              "            style=\"display:none;\">\n",
              "\n",
              "<svg xmlns=\"http://www.w3.org/2000/svg\" height=\"24px\"viewBox=\"0 0 24 24\"\n",
              "     width=\"24px\">\n",
              "    <g>\n",
              "        <path d=\"M19 3H5c-1.1 0-2 .9-2 2v14c0 1.1.9 2 2 2h14c1.1 0 2-.9 2-2V5c0-1.1-.9-2-2-2zM9 17H7v-7h2v7zm4 0h-2V7h2v10zm4 0h-2v-4h2v4z\"/>\n",
              "    </g>\n",
              "</svg>\n",
              "  </button>\n",
              "\n",
              "<style>\n",
              "  .colab-df-quickchart {\n",
              "      --bg-color: #E8F0FE;\n",
              "      --fill-color: #1967D2;\n",
              "      --hover-bg-color: #E2EBFA;\n",
              "      --hover-fill-color: #174EA6;\n",
              "      --disabled-fill-color: #AAA;\n",
              "      --disabled-bg-color: #DDD;\n",
              "  }\n",
              "\n",
              "  [theme=dark] .colab-df-quickchart {\n",
              "      --bg-color: #3B4455;\n",
              "      --fill-color: #D2E3FC;\n",
              "      --hover-bg-color: #434B5C;\n",
              "      --hover-fill-color: #FFFFFF;\n",
              "      --disabled-bg-color: #3B4455;\n",
              "      --disabled-fill-color: #666;\n",
              "  }\n",
              "\n",
              "  .colab-df-quickchart {\n",
              "    background-color: var(--bg-color);\n",
              "    border: none;\n",
              "    border-radius: 50%;\n",
              "    cursor: pointer;\n",
              "    display: none;\n",
              "    fill: var(--fill-color);\n",
              "    height: 32px;\n",
              "    padding: 0;\n",
              "    width: 32px;\n",
              "  }\n",
              "\n",
              "  .colab-df-quickchart:hover {\n",
              "    background-color: var(--hover-bg-color);\n",
              "    box-shadow: 0 1px 2px rgba(60, 64, 67, 0.3), 0 1px 3px 1px rgba(60, 64, 67, 0.15);\n",
              "    fill: var(--button-hover-fill-color);\n",
              "  }\n",
              "\n",
              "  .colab-df-quickchart-complete:disabled,\n",
              "  .colab-df-quickchart-complete:disabled:hover {\n",
              "    background-color: var(--disabled-bg-color);\n",
              "    fill: var(--disabled-fill-color);\n",
              "    box-shadow: none;\n",
              "  }\n",
              "\n",
              "  .colab-df-spinner {\n",
              "    border: 2px solid var(--fill-color);\n",
              "    border-color: transparent;\n",
              "    border-bottom-color: var(--fill-color);\n",
              "    animation:\n",
              "      spin 1s steps(1) infinite;\n",
              "  }\n",
              "\n",
              "  @keyframes spin {\n",
              "    0% {\n",
              "      border-color: transparent;\n",
              "      border-bottom-color: var(--fill-color);\n",
              "      border-left-color: var(--fill-color);\n",
              "    }\n",
              "    20% {\n",
              "      border-color: transparent;\n",
              "      border-left-color: var(--fill-color);\n",
              "      border-top-color: var(--fill-color);\n",
              "    }\n",
              "    30% {\n",
              "      border-color: transparent;\n",
              "      border-left-color: var(--fill-color);\n",
              "      border-top-color: var(--fill-color);\n",
              "      border-right-color: var(--fill-color);\n",
              "    }\n",
              "    40% {\n",
              "      border-color: transparent;\n",
              "      border-right-color: var(--fill-color);\n",
              "      border-top-color: var(--fill-color);\n",
              "    }\n",
              "    60% {\n",
              "      border-color: transparent;\n",
              "      border-right-color: var(--fill-color);\n",
              "    }\n",
              "    80% {\n",
              "      border-color: transparent;\n",
              "      border-right-color: var(--fill-color);\n",
              "      border-bottom-color: var(--fill-color);\n",
              "    }\n",
              "    90% {\n",
              "      border-color: transparent;\n",
              "      border-bottom-color: var(--fill-color);\n",
              "    }\n",
              "  }\n",
              "</style>\n",
              "\n",
              "  <script>\n",
              "    async function quickchart(key) {\n",
              "      const quickchartButtonEl =\n",
              "        document.querySelector('#' + key + ' button');\n",
              "      quickchartButtonEl.disabled = true;  // To prevent multiple clicks.\n",
              "      quickchartButtonEl.classList.add('colab-df-spinner');\n",
              "      try {\n",
              "        const charts = await google.colab.kernel.invokeFunction(\n",
              "            'suggestCharts', [key], {});\n",
              "      } catch (error) {\n",
              "        console.error('Error during call to suggestCharts:', error);\n",
              "      }\n",
              "      quickchartButtonEl.classList.remove('colab-df-spinner');\n",
              "      quickchartButtonEl.classList.add('colab-df-quickchart-complete');\n",
              "    }\n",
              "    (() => {\n",
              "      let quickchartButtonEl =\n",
              "        document.querySelector('#df-e3f5a824-1204-4412-b4b7-42fc5168868e button');\n",
              "      quickchartButtonEl.style.display =\n",
              "        google.colab.kernel.accessAllowed ? 'block' : 'none';\n",
              "    })();\n",
              "  </script>\n",
              "</div>\n",
              "    </div>\n",
              "  </div>\n"
            ],
            "application/vnd.google.colaboratory.intrinsic+json": {
              "type": "dataframe",
              "variable_name": "data",
              "summary": "{\n  \"name\": \"data\",\n  \"rows\": 350,\n  \"fields\": [\n    {\n      \"column\": \"CONTENT\",\n      \"properties\": {\n        \"dtype\": \"string\",\n        \"num_unique_values\": 349,\n        \"samples\": [\n          \"\\ud83d\\ude2b\\ud83d\\ude13\\ud83d\\ude0f\\ud83d\\ude2a\\ud83d\\ude14\\ud83d\\ude16\\ud83d\\ude0c\\ud83d\\ude2d\\ud83d\\ude0e\\ud83d\\ude1a\\ud83d\\ude18\\ud83d\\ude19\\ud83d\\ude17\\ud83d\\ude0b\\ud83d\\ude1d\\ud83d\\ude1c\\ud83d\\ude1b\\ud83d\\ude0d\\ud83d\\ude12\\ud83d\\ude1e\\ud83d\\ude37\\ud83d\\ude36\\ud83d\\ude35\\ud83d\\ude33\\ud83d\\ude32\\ud83d\\ude31\\ud83d\\ude1f\\ud83d\\ude30\\ud83d\\ude29\\ud83d\\ude28\\ud83d\\ude27\\ud83d\\ude26\\ud83d\\ude25\\ud83d\\ude24\\ud83d\\ude23\\ud83d\\ude2e\\ud83d\\ude34\\ud83d\\ude22\\ud83d\\ude21\\ud83d\\ude20\\ud83d\\ude2c\\ud83d\\ude15\\ud83d\\ude11\\ud83d\\ude10\\ud83d\\ude2f\\ud83d\\ude09\\ud83d\\ude08\\ud83d\\ude07\\ud83d\\ude06\\ud83d\\ude05\\ud83d\\ude04\\ud83d\\ude03\\ud83d\\ude02\\ud83d\\ude01\\ud83d\\ude00\\ud83d\\ude0a\\u263a  every single types of face on earth\\ufeff\",\n          \"Why does a song like this have more views than Michael Jackson SMH\\ufeff\",\n          \"just came to check the view count\\ufeff\"\n        ],\n        \"semantic_type\": \"\",\n        \"description\": \"\"\n      }\n    },\n    {\n      \"column\": \"CLASS\",\n      \"properties\": {\n        \"dtype\": \"number\",\n        \"std\": 0,\n        \"min\": 0,\n        \"max\": 1,\n        \"num_unique_values\": 2,\n        \"samples\": [\n          0,\n          1\n        ],\n        \"semantic_type\": \"\",\n        \"description\": \"\"\n      }\n    }\n  ]\n}"
            }
          },
          "metadata": {},
          "execution_count": 137
        }
      ]
    },
    {
      "cell_type": "markdown",
      "source": [
        "### Text Proccessing"
      ],
      "metadata": {
        "id": "PSdo-oFqFMbJ"
      }
    },
    {
      "cell_type": "code",
      "source": [
        "# Define Stopwords\n",
        "\n",
        "stpwds_en = list(set(stopwords.words('english')))\n",
        "stpwds_en.append(['oh']) # Cara lain dari \"stpwds_id = stpwds_id + ['oh']\"\n",
        "\n",
        "# Define Stemming\n",
        "\n",
        "stemmer = StemmerFactory().create_stemmer()"
      ],
      "metadata": {
        "id": "ozC8hJHTFMt3"
      },
      "execution_count": 138,
      "outputs": []
    },
    {
      "cell_type": "code",
      "source": [
        "# Create A Function for Text Preprocessing\n",
        "\n",
        "def text_preprocessing(text):\n",
        "  # Case folding\n",
        "  text = text.lower()\n",
        "\n",
        "  # Mention removal\n",
        "  text = re.sub(\"@[A-Za-z0-9_]+\", \" \", text)\n",
        "\n",
        "  # Hashtags removal\n",
        "  text = re.sub(\"#[A-Za-z0-9_]+\", \" \", text)\n",
        "\n",
        "  # Newline removal (\\n)\n",
        "  text = re.sub(r\"\\\\n\", \" \",text)\n",
        "\n",
        "  # Whitespace removal\n",
        "  text = text.strip()\n",
        "\n",
        "  # URL removal\n",
        "  text = re.sub(r\"http\\S+\", \" \", text)\n",
        "  text = re.sub(r\"www.\\S+\", \" \", text)\n",
        "\n",
        "  # Non-letter removal (such as emoticon, symbol (like μ, $, 兀), etc\n",
        "  text = re.sub(\"[^A-Za-z\\s']\", \" \", text)\n",
        "\n",
        "  # Tokenization\n",
        "  tokens = word_tokenize(text)\n",
        "\n",
        "  # Stopwords removal\n",
        "  tokens = [word for word in tokens if word not in stpwds_en]\n",
        "\n",
        "  # Stemming\n",
        "  tokens = [stemmer.stem(word) for word in tokens]\n",
        "\n",
        "  # Combining Tokens\n",
        "  text = ' '.join(tokens)\n",
        "\n",
        "  return text"
      ],
      "metadata": {
        "id": "KXzOh6t_2R_J"
      },
      "execution_count": 139,
      "outputs": []
    },
    {
      "cell_type": "code",
      "source": [
        "# Applying Text Preprocessing to the Dataset\n",
        "\n",
        "data['text_processed'] = data['CONTENT'].apply(lambda x: text_preprocessing(x))\n",
        "data"
      ],
      "metadata": {
        "id": "KdQKADzu3oBD",
        "colab": {
          "base_uri": "https://localhost:8080/",
          "height": 423
        },
        "outputId": "cce9ad10-6d70-4075-96de-e041f932ad46"
      },
      "execution_count": 140,
      "outputs": [
        {
          "output_type": "execute_result",
          "data": {
            "text/plain": [
              "                                               CONTENT  CLASS  \\\n",
              "0    Huh, anyway check out this you[tube] channel: ...      1   \n",
              "1    Hey guys check out my new channel and our firs...      1   \n",
              "2               just for test I have to say murdev.com      1   \n",
              "3     me shaking my sexy ass on my channel enjoy ^_^ ﻿      1   \n",
              "4              watch?v=vtaRGgvGtWQ   Check this out .﻿      1   \n",
              "..                                                 ...    ...   \n",
              "345  How can this have 2 billion views when there's...      0   \n",
              "346         I don't now why I'm watching this in 2014﻿      0   \n",
              "347  subscribe to me for call of duty vids and give...      1   \n",
              "348  hi guys please my android photo editor downloa...      1   \n",
              "349  The first billion viewed this because they tho...      0   \n",
              "\n",
              "                                        text_processed  \n",
              "0               huh anyway check tube channel kobyoshi  \n",
              "1    hey guys check new channel first vid us monkey...  \n",
              "2                                  test say murdev com  \n",
              "3                       shaking sexy ass channel enjoy  \n",
              "4                            watch v vtarggvgtwq check  \n",
              "..                                                 ...  \n",
              "345                         billion views s planet lol  \n",
              "346                                     n t m watching  \n",
              "347      subscribe call duty vids give aways goal subs  \n",
              "348  hi guys please android photo editor download t...  \n",
              "349  first billion viewed thought really cool billi...  \n",
              "\n",
              "[350 rows x 3 columns]"
            ],
            "text/html": [
              "\n",
              "  <div id=\"df-48fa8e51-cb49-4b12-afbc-e437a7e6c3ac\" class=\"colab-df-container\">\n",
              "    <div>\n",
              "<style scoped>\n",
              "    .dataframe tbody tr th:only-of-type {\n",
              "        vertical-align: middle;\n",
              "    }\n",
              "\n",
              "    .dataframe tbody tr th {\n",
              "        vertical-align: top;\n",
              "    }\n",
              "\n",
              "    .dataframe thead th {\n",
              "        text-align: right;\n",
              "    }\n",
              "</style>\n",
              "<table border=\"1\" class=\"dataframe\">\n",
              "  <thead>\n",
              "    <tr style=\"text-align: right;\">\n",
              "      <th></th>\n",
              "      <th>CONTENT</th>\n",
              "      <th>CLASS</th>\n",
              "      <th>text_processed</th>\n",
              "    </tr>\n",
              "  </thead>\n",
              "  <tbody>\n",
              "    <tr>\n",
              "      <th>0</th>\n",
              "      <td>Huh, anyway check out this you[tube] channel: ...</td>\n",
              "      <td>1</td>\n",
              "      <td>huh anyway check tube channel kobyoshi</td>\n",
              "    </tr>\n",
              "    <tr>\n",
              "      <th>1</th>\n",
              "      <td>Hey guys check out my new channel and our firs...</td>\n",
              "      <td>1</td>\n",
              "      <td>hey guys check new channel first vid us monkey...</td>\n",
              "    </tr>\n",
              "    <tr>\n",
              "      <th>2</th>\n",
              "      <td>just for test I have to say murdev.com</td>\n",
              "      <td>1</td>\n",
              "      <td>test say murdev com</td>\n",
              "    </tr>\n",
              "    <tr>\n",
              "      <th>3</th>\n",
              "      <td>me shaking my sexy ass on my channel enjoy ^_^ ﻿</td>\n",
              "      <td>1</td>\n",
              "      <td>shaking sexy ass channel enjoy</td>\n",
              "    </tr>\n",
              "    <tr>\n",
              "      <th>4</th>\n",
              "      <td>watch?v=vtaRGgvGtWQ   Check this out .﻿</td>\n",
              "      <td>1</td>\n",
              "      <td>watch v vtarggvgtwq check</td>\n",
              "    </tr>\n",
              "    <tr>\n",
              "      <th>...</th>\n",
              "      <td>...</td>\n",
              "      <td>...</td>\n",
              "      <td>...</td>\n",
              "    </tr>\n",
              "    <tr>\n",
              "      <th>345</th>\n",
              "      <td>How can this have 2 billion views when there's...</td>\n",
              "      <td>0</td>\n",
              "      <td>billion views s planet lol</td>\n",
              "    </tr>\n",
              "    <tr>\n",
              "      <th>346</th>\n",
              "      <td>I don't now why I'm watching this in 2014﻿</td>\n",
              "      <td>0</td>\n",
              "      <td>n t m watching</td>\n",
              "    </tr>\n",
              "    <tr>\n",
              "      <th>347</th>\n",
              "      <td>subscribe to me for call of duty vids and give...</td>\n",
              "      <td>1</td>\n",
              "      <td>subscribe call duty vids give aways goal subs</td>\n",
              "    </tr>\n",
              "    <tr>\n",
              "      <th>348</th>\n",
              "      <td>hi guys please my android photo editor downloa...</td>\n",
              "      <td>1</td>\n",
              "      <td>hi guys please android photo editor download t...</td>\n",
              "    </tr>\n",
              "    <tr>\n",
              "      <th>349</th>\n",
              "      <td>The first billion viewed this because they tho...</td>\n",
              "      <td>0</td>\n",
              "      <td>first billion viewed thought really cool billi...</td>\n",
              "    </tr>\n",
              "  </tbody>\n",
              "</table>\n",
              "<p>350 rows × 3 columns</p>\n",
              "</div>\n",
              "    <div class=\"colab-df-buttons\">\n",
              "\n",
              "  <div class=\"colab-df-container\">\n",
              "    <button class=\"colab-df-convert\" onclick=\"convertToInteractive('df-48fa8e51-cb49-4b12-afbc-e437a7e6c3ac')\"\n",
              "            title=\"Convert this dataframe to an interactive table.\"\n",
              "            style=\"display:none;\">\n",
              "\n",
              "  <svg xmlns=\"http://www.w3.org/2000/svg\" height=\"24px\" viewBox=\"0 -960 960 960\">\n",
              "    <path d=\"M120-120v-720h720v720H120Zm60-500h600v-160H180v160Zm220 220h160v-160H400v160Zm0 220h160v-160H400v160ZM180-400h160v-160H180v160Zm440 0h160v-160H620v160ZM180-180h160v-160H180v160Zm440 0h160v-160H620v160Z\"/>\n",
              "  </svg>\n",
              "    </button>\n",
              "\n",
              "  <style>\n",
              "    .colab-df-container {\n",
              "      display:flex;\n",
              "      gap: 12px;\n",
              "    }\n",
              "\n",
              "    .colab-df-convert {\n",
              "      background-color: #E8F0FE;\n",
              "      border: none;\n",
              "      border-radius: 50%;\n",
              "      cursor: pointer;\n",
              "      display: none;\n",
              "      fill: #1967D2;\n",
              "      height: 32px;\n",
              "      padding: 0 0 0 0;\n",
              "      width: 32px;\n",
              "    }\n",
              "\n",
              "    .colab-df-convert:hover {\n",
              "      background-color: #E2EBFA;\n",
              "      box-shadow: 0px 1px 2px rgba(60, 64, 67, 0.3), 0px 1px 3px 1px rgba(60, 64, 67, 0.15);\n",
              "      fill: #174EA6;\n",
              "    }\n",
              "\n",
              "    .colab-df-buttons div {\n",
              "      margin-bottom: 4px;\n",
              "    }\n",
              "\n",
              "    [theme=dark] .colab-df-convert {\n",
              "      background-color: #3B4455;\n",
              "      fill: #D2E3FC;\n",
              "    }\n",
              "\n",
              "    [theme=dark] .colab-df-convert:hover {\n",
              "      background-color: #434B5C;\n",
              "      box-shadow: 0px 1px 3px 1px rgba(0, 0, 0, 0.15);\n",
              "      filter: drop-shadow(0px 1px 2px rgba(0, 0, 0, 0.3));\n",
              "      fill: #FFFFFF;\n",
              "    }\n",
              "  </style>\n",
              "\n",
              "    <script>\n",
              "      const buttonEl =\n",
              "        document.querySelector('#df-48fa8e51-cb49-4b12-afbc-e437a7e6c3ac button.colab-df-convert');\n",
              "      buttonEl.style.display =\n",
              "        google.colab.kernel.accessAllowed ? 'block' : 'none';\n",
              "\n",
              "      async function convertToInteractive(key) {\n",
              "        const element = document.querySelector('#df-48fa8e51-cb49-4b12-afbc-e437a7e6c3ac');\n",
              "        const dataTable =\n",
              "          await google.colab.kernel.invokeFunction('convertToInteractive',\n",
              "                                                    [key], {});\n",
              "        if (!dataTable) return;\n",
              "\n",
              "        const docLinkHtml = 'Like what you see? Visit the ' +\n",
              "          '<a target=\"_blank\" href=https://colab.research.google.com/notebooks/data_table.ipynb>data table notebook</a>'\n",
              "          + ' to learn more about interactive tables.';\n",
              "        element.innerHTML = '';\n",
              "        dataTable['output_type'] = 'display_data';\n",
              "        await google.colab.output.renderOutput(dataTable, element);\n",
              "        const docLink = document.createElement('div');\n",
              "        docLink.innerHTML = docLinkHtml;\n",
              "        element.appendChild(docLink);\n",
              "      }\n",
              "    </script>\n",
              "  </div>\n",
              "\n",
              "\n",
              "<div id=\"df-56d686e5-505d-4768-8213-90c257845365\">\n",
              "  <button class=\"colab-df-quickchart\" onclick=\"quickchart('df-56d686e5-505d-4768-8213-90c257845365')\"\n",
              "            title=\"Suggest charts\"\n",
              "            style=\"display:none;\">\n",
              "\n",
              "<svg xmlns=\"http://www.w3.org/2000/svg\" height=\"24px\"viewBox=\"0 0 24 24\"\n",
              "     width=\"24px\">\n",
              "    <g>\n",
              "        <path d=\"M19 3H5c-1.1 0-2 .9-2 2v14c0 1.1.9 2 2 2h14c1.1 0 2-.9 2-2V5c0-1.1-.9-2-2-2zM9 17H7v-7h2v7zm4 0h-2V7h2v10zm4 0h-2v-4h2v4z\"/>\n",
              "    </g>\n",
              "</svg>\n",
              "  </button>\n",
              "\n",
              "<style>\n",
              "  .colab-df-quickchart {\n",
              "      --bg-color: #E8F0FE;\n",
              "      --fill-color: #1967D2;\n",
              "      --hover-bg-color: #E2EBFA;\n",
              "      --hover-fill-color: #174EA6;\n",
              "      --disabled-fill-color: #AAA;\n",
              "      --disabled-bg-color: #DDD;\n",
              "  }\n",
              "\n",
              "  [theme=dark] .colab-df-quickchart {\n",
              "      --bg-color: #3B4455;\n",
              "      --fill-color: #D2E3FC;\n",
              "      --hover-bg-color: #434B5C;\n",
              "      --hover-fill-color: #FFFFFF;\n",
              "      --disabled-bg-color: #3B4455;\n",
              "      --disabled-fill-color: #666;\n",
              "  }\n",
              "\n",
              "  .colab-df-quickchart {\n",
              "    background-color: var(--bg-color);\n",
              "    border: none;\n",
              "    border-radius: 50%;\n",
              "    cursor: pointer;\n",
              "    display: none;\n",
              "    fill: var(--fill-color);\n",
              "    height: 32px;\n",
              "    padding: 0;\n",
              "    width: 32px;\n",
              "  }\n",
              "\n",
              "  .colab-df-quickchart:hover {\n",
              "    background-color: var(--hover-bg-color);\n",
              "    box-shadow: 0 1px 2px rgba(60, 64, 67, 0.3), 0 1px 3px 1px rgba(60, 64, 67, 0.15);\n",
              "    fill: var(--button-hover-fill-color);\n",
              "  }\n",
              "\n",
              "  .colab-df-quickchart-complete:disabled,\n",
              "  .colab-df-quickchart-complete:disabled:hover {\n",
              "    background-color: var(--disabled-bg-color);\n",
              "    fill: var(--disabled-fill-color);\n",
              "    box-shadow: none;\n",
              "  }\n",
              "\n",
              "  .colab-df-spinner {\n",
              "    border: 2px solid var(--fill-color);\n",
              "    border-color: transparent;\n",
              "    border-bottom-color: var(--fill-color);\n",
              "    animation:\n",
              "      spin 1s steps(1) infinite;\n",
              "  }\n",
              "\n",
              "  @keyframes spin {\n",
              "    0% {\n",
              "      border-color: transparent;\n",
              "      border-bottom-color: var(--fill-color);\n",
              "      border-left-color: var(--fill-color);\n",
              "    }\n",
              "    20% {\n",
              "      border-color: transparent;\n",
              "      border-left-color: var(--fill-color);\n",
              "      border-top-color: var(--fill-color);\n",
              "    }\n",
              "    30% {\n",
              "      border-color: transparent;\n",
              "      border-left-color: var(--fill-color);\n",
              "      border-top-color: var(--fill-color);\n",
              "      border-right-color: var(--fill-color);\n",
              "    }\n",
              "    40% {\n",
              "      border-color: transparent;\n",
              "      border-right-color: var(--fill-color);\n",
              "      border-top-color: var(--fill-color);\n",
              "    }\n",
              "    60% {\n",
              "      border-color: transparent;\n",
              "      border-right-color: var(--fill-color);\n",
              "    }\n",
              "    80% {\n",
              "      border-color: transparent;\n",
              "      border-right-color: var(--fill-color);\n",
              "      border-bottom-color: var(--fill-color);\n",
              "    }\n",
              "    90% {\n",
              "      border-color: transparent;\n",
              "      border-bottom-color: var(--fill-color);\n",
              "    }\n",
              "  }\n",
              "</style>\n",
              "\n",
              "  <script>\n",
              "    async function quickchart(key) {\n",
              "      const quickchartButtonEl =\n",
              "        document.querySelector('#' + key + ' button');\n",
              "      quickchartButtonEl.disabled = true;  // To prevent multiple clicks.\n",
              "      quickchartButtonEl.classList.add('colab-df-spinner');\n",
              "      try {\n",
              "        const charts = await google.colab.kernel.invokeFunction(\n",
              "            'suggestCharts', [key], {});\n",
              "      } catch (error) {\n",
              "        console.error('Error during call to suggestCharts:', error);\n",
              "      }\n",
              "      quickchartButtonEl.classList.remove('colab-df-spinner');\n",
              "      quickchartButtonEl.classList.add('colab-df-quickchart-complete');\n",
              "    }\n",
              "    (() => {\n",
              "      let quickchartButtonEl =\n",
              "        document.querySelector('#df-56d686e5-505d-4768-8213-90c257845365 button');\n",
              "      quickchartButtonEl.style.display =\n",
              "        google.colab.kernel.accessAllowed ? 'block' : 'none';\n",
              "    })();\n",
              "  </script>\n",
              "</div>\n",
              "    </div>\n",
              "  </div>\n"
            ],
            "application/vnd.google.colaboratory.intrinsic+json": {
              "type": "dataframe",
              "variable_name": "data",
              "summary": "{\n  \"name\": \"data\",\n  \"rows\": 350,\n  \"fields\": [\n    {\n      \"column\": \"CONTENT\",\n      \"properties\": {\n        \"dtype\": \"string\",\n        \"num_unique_values\": 349,\n        \"samples\": [\n          \"\\ud83d\\ude2b\\ud83d\\ude13\\ud83d\\ude0f\\ud83d\\ude2a\\ud83d\\ude14\\ud83d\\ude16\\ud83d\\ude0c\\ud83d\\ude2d\\ud83d\\ude0e\\ud83d\\ude1a\\ud83d\\ude18\\ud83d\\ude19\\ud83d\\ude17\\ud83d\\ude0b\\ud83d\\ude1d\\ud83d\\ude1c\\ud83d\\ude1b\\ud83d\\ude0d\\ud83d\\ude12\\ud83d\\ude1e\\ud83d\\ude37\\ud83d\\ude36\\ud83d\\ude35\\ud83d\\ude33\\ud83d\\ude32\\ud83d\\ude31\\ud83d\\ude1f\\ud83d\\ude30\\ud83d\\ude29\\ud83d\\ude28\\ud83d\\ude27\\ud83d\\ude26\\ud83d\\ude25\\ud83d\\ude24\\ud83d\\ude23\\ud83d\\ude2e\\ud83d\\ude34\\ud83d\\ude22\\ud83d\\ude21\\ud83d\\ude20\\ud83d\\ude2c\\ud83d\\ude15\\ud83d\\ude11\\ud83d\\ude10\\ud83d\\ude2f\\ud83d\\ude09\\ud83d\\ude08\\ud83d\\ude07\\ud83d\\ude06\\ud83d\\ude05\\ud83d\\ude04\\ud83d\\ude03\\ud83d\\ude02\\ud83d\\ude01\\ud83d\\ude00\\ud83d\\ude0a\\u263a  every single types of face on earth\\ufeff\",\n          \"Why does a song like this have more views than Michael Jackson SMH\\ufeff\",\n          \"just came to check the view count\\ufeff\"\n        ],\n        \"semantic_type\": \"\",\n        \"description\": \"\"\n      }\n    },\n    {\n      \"column\": \"CLASS\",\n      \"properties\": {\n        \"dtype\": \"number\",\n        \"std\": 0,\n        \"min\": 0,\n        \"max\": 1,\n        \"num_unique_values\": 2,\n        \"samples\": [\n          0,\n          1\n        ],\n        \"semantic_type\": \"\",\n        \"description\": \"\"\n      }\n    },\n    {\n      \"column\": \"text_processed\",\n      \"properties\": {\n        \"dtype\": \"string\",\n        \"num_unique_values\": 317,\n        \"samples\": [\n          \"free cs go\",\n          \"came check views p\"\n        ],\n        \"semantic_type\": \"\",\n        \"description\": \"\"\n      }\n    }\n  ]\n}"
            }
          },
          "metadata": {},
          "execution_count": 140
        }
      ]
    },
    {
      "cell_type": "markdown",
      "source": [
        "### Target Conversion"
      ],
      "metadata": {
        "id": "yr1tPGMWFkUa"
      }
    },
    {
      "cell_type": "code",
      "source": [
        "# Display Target\n",
        "\n",
        "data.CLASS.unique()"
      ],
      "metadata": {
        "colab": {
          "base_uri": "https://localhost:8080/"
        },
        "id": "b-awXj5zFknD",
        "outputId": "dcd3dd0c-db4d-43da-8541-28ece50ced1e"
      },
      "execution_count": 141,
      "outputs": [
        {
          "output_type": "execute_result",
          "data": {
            "text/plain": [
              "array([1, 0])"
            ]
          },
          "metadata": {},
          "execution_count": 141
        }
      ]
    },
    {
      "cell_type": "code",
      "source": [
        "# Target Distribution\n",
        "\n",
        "data['CLASS'].value_counts()"
      ],
      "metadata": {
        "colab": {
          "base_uri": "https://localhost:8080/"
        },
        "id": "fJMqQ0C0FncF",
        "outputId": "b4ff8e9a-f39f-4014-cdcf-32fe4d35b623"
      },
      "execution_count": 142,
      "outputs": [
        {
          "output_type": "execute_result",
          "data": {
            "text/plain": [
              "1    175\n",
              "0    175\n",
              "Name: CLASS, dtype: int64"
            ]
          },
          "metadata": {},
          "execution_count": 142
        }
      ]
    },
    {
      "cell_type": "code",
      "source": [
        "# Data Splitting\n",
        "\n",
        "X_train_val, X_test, y_train_val, y_test = train_test_split(data.text_processed,\n",
        "                                                    data.CLASS,\n",
        "                                                    test_size=0.15,\n",
        "                                                    random_state=20,\n",
        "                                                    stratify=data.CLASS)\n",
        "\n",
        "X_train, X_val, y_train, y_val = train_test_split(X_train_val,\n",
        "                                                  y_train_val,\n",
        "                                                  test_size=0.10,\n",
        "                                                  random_state=20,\n",
        "                                                  stratify=y_train_val)\n",
        "\n",
        "print('Train Size : ', X_train.shape)\n",
        "print('Val Size   : ', X_val.shape)\n",
        "print('Test Size  : ', X_test.shape)"
      ],
      "metadata": {
        "colab": {
          "base_uri": "https://localhost:8080/"
        },
        "id": "LOa7ZiagFon3",
        "outputId": "dc87e839-3f67-45b0-e5fd-515a853d4cb0"
      },
      "execution_count": 143,
      "outputs": [
        {
          "output_type": "stream",
          "name": "stdout",
          "text": [
            "Train Size :  (267,)\n",
            "Val Size   :  (30,)\n",
            "Test Size  :  (53,)\n"
          ]
        }
      ]
    },
    {
      "cell_type": "code",
      "source": [
        "# Change Target to One Hot Encoding\n",
        "\n",
        "from tensorflow.keras.utils import to_categorical\n",
        "\n",
        "y_train_ohe = to_categorical(y_train)\n",
        "y_val_ohe = to_categorical(y_val)\n",
        "y_test_ohe = to_categorical(y_test)"
      ],
      "metadata": {
        "id": "lw4qiRzDIyBW"
      },
      "execution_count": 144,
      "outputs": []
    },
    {
      "cell_type": "markdown",
      "source": [
        "### Text Vectorization"
      ],
      "metadata": {
        "id": "MUNElt3nFwrf"
      }
    },
    {
      "cell_type": "code",
      "source": [
        "# Get Vocabularies\n",
        "\n",
        "Vectorize = CountVectorizer()\n",
        "X_train_vec = Vectorize.fit_transform(X_train)\n",
        "X_test_vec = Vectorize.transform(X_test)\n",
        "\n",
        "X_train_vec"
      ],
      "metadata": {
        "colab": {
          "base_uri": "https://localhost:8080/"
        },
        "id": "nB-6F-uSFvGz",
        "outputId": "ff52d567-483b-4f49-efbb-a66029c22613"
      },
      "execution_count": 145,
      "outputs": [
        {
          "output_type": "execute_result",
          "data": {
            "text/plain": [
              "<267x829 sparse matrix of type '<class 'numpy.int64'>'\n",
              "\twith 1731 stored elements in Compressed Sparse Row format>"
            ]
          },
          "metadata": {},
          "execution_count": 145
        }
      ]
    },
    {
      "cell_type": "code",
      "source": [
        "# Finding the Number of Vocabs and Max Token Length in One Document\n",
        "\n",
        "total_vocab = len(Vectorize.vocabulary_.keys())\n",
        "max_sen_len = max([len(i.split(\" \")) for i in X_train])\n",
        "\n",
        "print('Total Vocab : ', total_vocab)\n",
        "print('Maximum Sentence Length : ', max_sen_len, 'tokens')"
      ],
      "metadata": {
        "colab": {
          "base_uri": "https://localhost:8080/"
        },
        "id": "sLC3_xskF0ts",
        "outputId": "0f796773-60a7-4b8f-9497-b342990ef4eb"
      },
      "execution_count": 146,
      "outputs": [
        {
          "output_type": "stream",
          "name": "stdout",
          "text": [
            "Total Vocab :  829\n",
            "Maximum Sentence Length :  107 tokens\n"
          ]
        }
      ]
    },
    {
      "cell_type": "code",
      "source": [
        "# Text Vectorization\n",
        "import numpy as np\n",
        "\n",
        "X_train_flattened = X_train.values.reshape(-1, 1)  # Meratakan array ke satu dimensi\n",
        "text_vectorization = TextVectorization(max_tokens=total_vocab,\n",
        "                                       standardize=\"lower_and_strip_punctuation\",\n",
        "                                       split=\"whitespace\",\n",
        "                                       ngrams=None,\n",
        "                                       output_mode=\"int\",\n",
        "                                       output_sequence_length=max_sen_len,\n",
        "                                       input_shape=(1,),\n",
        "                                       dtype=tf.string)\n",
        "text_vectorization.adapt(X_train_flattened)\n",
        "\n",
        "# Adapt the TextVectorization layer\n",
        "text_vectorization.adapt(X_train)"
      ],
      "metadata": {
        "id": "jwhEh3GnF2KE"
      },
      "execution_count": 164,
      "outputs": []
    },
    {
      "cell_type": "code",
      "source": [
        "# Example Result\n",
        "\n",
        "## Document example\n",
        "print('Document example')\n",
        "print(data.CONTENT[0])\n",
        "print('')\n",
        "\n",
        "## Result of Text Vectorization\n",
        "print('Result of Text Vectorization')\n",
        "print(text_vectorization([data.CONTENT[0]]))\n",
        "print('Vector size : ', text_vectorization([data.CONTENT[0]]).shape)"
      ],
      "metadata": {
        "colab": {
          "base_uri": "https://localhost:8080/"
        },
        "id": "_-Hp8qsQF3pQ",
        "outputId": "e453e413-36e3-4aba-e39d-3aed6cb89d7f"
      },
      "execution_count": 148,
      "outputs": [
        {
          "output_type": "stream",
          "name": "stdout",
          "text": [
            "Document example\n",
            "Huh, anyway check out this you[tube] channel: kobyoshi02\n",
            "\n",
            "Result of Text Vectorization\n",
            "tf.Tensor(\n",
            "[[614 284   2   1   1  15   8   1   0   0   0   0   0   0   0   0   0   0\n",
            "    0   0   0   0   0   0   0   0   0   0   0   0   0   0   0   0   0   0\n",
            "    0   0   0   0   0   0   0   0   0   0   0   0   0   0   0   0   0   0\n",
            "    0   0   0   0   0   0   0   0   0   0   0   0   0   0   0   0   0   0\n",
            "    0   0   0   0   0   0   0   0   0   0   0   0   0   0   0   0   0   0\n",
            "    0   0   0   0   0   0   0   0   0   0   0   0   0   0   0   0   0]], shape=(1, 107), dtype=int64)\n",
            "Vector size :  (1, 107)\n"
          ]
        }
      ]
    },
    {
      "cell_type": "code",
      "source": [
        "# View the Top 20 Tokens (Sorted by the Highest Frequency of Appearance)\n",
        "\n",
        "text_vectorization.get_vocabulary()[:20]"
      ],
      "metadata": {
        "colab": {
          "base_uri": "https://localhost:8080/"
        },
        "id": "sZ9Go4FOF4wP",
        "outputId": "c262e64b-250c-443f-c939-33d60433cff5"
      },
      "execution_count": 149,
      "outputs": [
        {
          "output_type": "execute_result",
          "data": {
            "text/plain": [
              "['',\n",
              " '[UNK]',\n",
              " 'check',\n",
              " 'views',\n",
              " 'subscribe',\n",
              " 'billion',\n",
              " 'please',\n",
              " 'video',\n",
              " 'channel',\n",
              " 'like',\n",
              " 'song',\n",
              " 'get',\n",
              " 'people',\n",
              " 'n',\n",
              " 't',\n",
              " 'youtube',\n",
              " 's',\n",
              " 'new',\n",
              " 'music',\n",
              " 'psy']"
            ]
          },
          "metadata": {},
          "execution_count": 149
        }
      ]
    },
    {
      "cell_type": "markdown",
      "source": [
        "### Word Embedding"
      ],
      "metadata": {
        "id": "yhai2GvxF6To"
      }
    },
    {
      "cell_type": "code",
      "source": [
        "# Embedding\n",
        "embedding = Embedding(input_dim=total_vocab,\n",
        "                      output_dim=128,\n",
        "                      embeddings_initializer=\"uniform\")\n"
      ],
      "metadata": {
        "id": "TsIucCkaF6n3"
      },
      "execution_count": 150,
      "outputs": []
    },
    {
      "cell_type": "code",
      "source": [
        "# Example Result\n",
        "\n",
        "## Document example\n",
        "print('Document example')\n",
        "print(data.CONTENT[0])\n",
        "print('')\n",
        "\n",
        "## Result of Text Vectorization\n",
        "print('Result of  Text Vectorization')\n",
        "print(text_vectorization([data.CONTENT[0]]))\n",
        "print('Vector size : ', text_vectorization([data.CONTENT[0]]).shape)\n",
        "print('')\n",
        "\n",
        "## Result of  Embedding\n",
        "print('Result of  Embedding')\n",
        "print(embedding(text_vectorization([data.CONTENT[0]])))\n",
        "print('Vector size : ', embedding(text_vectorization([data.CONTENT[0]])).shape)"
      ],
      "metadata": {
        "colab": {
          "base_uri": "https://localhost:8080/"
        },
        "id": "tCSO31FYF8wf",
        "outputId": "e395119d-b88d-4372-c216-3fa5fb495401"
      },
      "execution_count": 151,
      "outputs": [
        {
          "output_type": "stream",
          "name": "stdout",
          "text": [
            "Document example\n",
            "Huh, anyway check out this you[tube] channel: kobyoshi02\n",
            "\n",
            "Result of  Text Vectorization\n",
            "tf.Tensor(\n",
            "[[614 284   2   1   1  15   8   1   0   0   0   0   0   0   0   0   0   0\n",
            "    0   0   0   0   0   0   0   0   0   0   0   0   0   0   0   0   0   0\n",
            "    0   0   0   0   0   0   0   0   0   0   0   0   0   0   0   0   0   0\n",
            "    0   0   0   0   0   0   0   0   0   0   0   0   0   0   0   0   0   0\n",
            "    0   0   0   0   0   0   0   0   0   0   0   0   0   0   0   0   0   0\n",
            "    0   0   0   0   0   0   0   0   0   0   0   0   0   0   0   0   0]], shape=(1, 107), dtype=int64)\n",
            "Vector size :  (1, 107)\n",
            "\n",
            "Result of  Embedding\n",
            "tf.Tensor(\n",
            "[[[ 0.02111775 -0.04543058 -0.03157966 ... -0.00249048  0.01191229\n",
            "   -0.02043991]\n",
            "  [-0.01928903  0.03849861  0.03959998 ... -0.01938274  0.04771241\n",
            "    0.02334158]\n",
            "  [ 0.04303565  0.00897572 -0.0487426  ... -0.02724767  0.02005491\n",
            "    0.03563047]\n",
            "  ...\n",
            "  [ 0.0240276   0.04867258  0.03664236 ...  0.00783234 -0.03358694\n",
            "    0.04730525]\n",
            "  [ 0.0240276   0.04867258  0.03664236 ...  0.00783234 -0.03358694\n",
            "    0.04730525]\n",
            "  [ 0.0240276   0.04867258  0.03664236 ...  0.00783234 -0.03358694\n",
            "    0.04730525]]], shape=(1, 107, 128), dtype=float32)\n",
            "Vector size :  (1, 107, 128)\n"
          ]
        }
      ]
    },
    {
      "cell_type": "markdown",
      "source": [
        "## ANN Training"
      ],
      "metadata": {
        "id": "XAvNCqWqxp6V"
      }
    },
    {
      "cell_type": "markdown",
      "source": [
        "### Model Definition"
      ],
      "metadata": {
        "id": "Jxx__GPw33TE"
      }
    },
    {
      "cell_type": "code",
      "source": [
        "# Model Training using LSTM\n",
        "\n",
        "## Clear Session\n",
        "seed = 20\n",
        "tf.keras.backend.clear_session()\n",
        "np.random.seed(seed)\n",
        "tf.random.set_seed(seed)\n",
        "\n",
        "## Define the architecture\n",
        "model_lstm_1 = Sequential()\n",
        "model_lstm_1.add(text_vectorization)\n",
        "model_lstm_1.add(embedding)\n",
        "model_lstm_1.add(Bidirectional(LSTM(32, return_sequences=True, kernel_initializer=tf.keras.initializers.GlorotUniform(seed))))\n",
        "model_lstm_1.add(Dropout(0.1))\n",
        "model_lstm_1.add(Bidirectional(LSTM(16, kernel_initializer=tf.keras.initializers.GlorotUniform(seed))))\n",
        "model_lstm_1.add(Dropout(0.1))\n",
        "model_lstm_1.add(Dense(2, activation='softmax'))\n",
        "\n",
        "model_lstm_1.compile(loss='categorical_crossentropy', optimizer='adam', metrics=['accuracy'])"
      ],
      "metadata": {
        "id": "lVQqYZeSF_tF"
      },
      "execution_count": 152,
      "outputs": []
    },
    {
      "cell_type": "markdown",
      "source": [
        "### Model Training"
      ],
      "metadata": {
        "id": "7y58E5y13_sl"
      }
    },
    {
      "cell_type": "code",
      "source": [
        "model_lstm_1_hist = model_lstm_1.fit(X_train, y_train_ohe, epochs=50, validation_data=(X_val, y_val_ohe))"
      ],
      "metadata": {
        "colab": {
          "base_uri": "https://localhost:8080/"
        },
        "id": "rnrtzn8lw96k",
        "outputId": "cddc3e41-aeac-4001-ea7f-0e4a031f3723"
      },
      "execution_count": 153,
      "outputs": [
        {
          "output_type": "stream",
          "name": "stdout",
          "text": [
            "Epoch 1/50\n",
            "9/9 [==============================] - 12s 496ms/step - loss: 0.6991 - accuracy: 0.4944 - val_loss: 0.6880 - val_accuracy: 0.6333\n",
            "Epoch 2/50\n",
            "9/9 [==============================] - 2s 214ms/step - loss: 0.6834 - accuracy: 0.5581 - val_loss: 0.6808 - val_accuracy: 0.5000\n",
            "Epoch 3/50\n",
            "9/9 [==============================] - 3s 319ms/step - loss: 0.6546 - accuracy: 0.7303 - val_loss: 0.6518 - val_accuracy: 0.8000\n",
            "Epoch 4/50\n",
            "9/9 [==============================] - 3s 289ms/step - loss: 0.5868 - accuracy: 0.8839 - val_loss: 0.5683 - val_accuracy: 0.8000\n",
            "Epoch 5/50\n",
            "9/9 [==============================] - 3s 374ms/step - loss: 0.4052 - accuracy: 0.9401 - val_loss: 0.4471 - val_accuracy: 0.8000\n",
            "Epoch 6/50\n",
            "9/9 [==============================] - 3s 299ms/step - loss: 0.2085 - accuracy: 0.9326 - val_loss: 0.3503 - val_accuracy: 0.8667\n",
            "Epoch 7/50\n",
            "9/9 [==============================] - 3s 284ms/step - loss: 0.2023 - accuracy: 0.9139 - val_loss: 0.3704 - val_accuracy: 0.8667\n",
            "Epoch 8/50\n",
            "9/9 [==============================] - 3s 282ms/step - loss: 0.0981 - accuracy: 0.9700 - val_loss: 0.4166 - val_accuracy: 0.9000\n",
            "Epoch 9/50\n",
            "9/9 [==============================] - 3s 376ms/step - loss: 0.0695 - accuracy: 0.9888 - val_loss: 0.4487 - val_accuracy: 0.9000\n",
            "Epoch 10/50\n",
            "9/9 [==============================] - 4s 374ms/step - loss: 0.0483 - accuracy: 0.9888 - val_loss: 0.4905 - val_accuracy: 0.9000\n",
            "Epoch 11/50\n",
            "9/9 [==============================] - 3s 311ms/step - loss: 0.0472 - accuracy: 0.9888 - val_loss: 0.5366 - val_accuracy: 0.8667\n",
            "Epoch 12/50\n",
            "9/9 [==============================] - 3s 342ms/step - loss: 0.0459 - accuracy: 0.9888 - val_loss: 0.5353 - val_accuracy: 0.9000\n",
            "Epoch 13/50\n",
            "9/9 [==============================] - 3s 352ms/step - loss: 0.0413 - accuracy: 0.9888 - val_loss: 0.5569 - val_accuracy: 0.8667\n",
            "Epoch 14/50\n",
            "9/9 [==============================] - 3s 351ms/step - loss: 0.0415 - accuracy: 0.9888 - val_loss: 0.5594 - val_accuracy: 0.9000\n",
            "Epoch 15/50\n",
            "9/9 [==============================] - 2s 220ms/step - loss: 0.0459 - accuracy: 0.9888 - val_loss: 0.6151 - val_accuracy: 0.8667\n",
            "Epoch 16/50\n",
            "9/9 [==============================] - 1s 138ms/step - loss: 0.0479 - accuracy: 0.9888 - val_loss: 0.5959 - val_accuracy: 0.8667\n",
            "Epoch 17/50\n",
            "9/9 [==============================] - 1s 147ms/step - loss: 0.0457 - accuracy: 0.9888 - val_loss: 0.6106 - val_accuracy: 0.8667\n",
            "Epoch 18/50\n",
            "9/9 [==============================] - 1s 150ms/step - loss: 0.0426 - accuracy: 0.9888 - val_loss: 0.6101 - val_accuracy: 0.8667\n",
            "Epoch 19/50\n",
            "9/9 [==============================] - 1s 139ms/step - loss: 0.0398 - accuracy: 0.9888 - val_loss: 0.6487 - val_accuracy: 0.8667\n",
            "Epoch 20/50\n",
            "9/9 [==============================] - 1s 142ms/step - loss: 0.0442 - accuracy: 0.9888 - val_loss: 0.6601 - val_accuracy: 0.8667\n",
            "Epoch 21/50\n",
            "9/9 [==============================] - 2s 238ms/step - loss: 0.0423 - accuracy: 0.9888 - val_loss: 0.6492 - val_accuracy: 0.8667\n",
            "Epoch 22/50\n",
            "9/9 [==============================] - 1s 150ms/step - loss: 0.0407 - accuracy: 0.9888 - val_loss: 0.6500 - val_accuracy: 0.8667\n",
            "Epoch 23/50\n",
            "9/9 [==============================] - 1s 135ms/step - loss: 0.0400 - accuracy: 0.9888 - val_loss: 0.6643 - val_accuracy: 0.8667\n",
            "Epoch 24/50\n",
            "9/9 [==============================] - 1s 145ms/step - loss: 0.0421 - accuracy: 0.9888 - val_loss: 0.5549 - val_accuracy: 0.8667\n",
            "Epoch 25/50\n",
            "9/9 [==============================] - 1s 152ms/step - loss: 0.0412 - accuracy: 0.9888 - val_loss: 0.6163 - val_accuracy: 0.9000\n",
            "Epoch 26/50\n",
            "9/9 [==============================] - 1s 138ms/step - loss: 0.0436 - accuracy: 0.9888 - val_loss: 0.6158 - val_accuracy: 0.9000\n",
            "Epoch 27/50\n",
            "9/9 [==============================] - 1s 141ms/step - loss: 0.0454 - accuracy: 0.9888 - val_loss: 0.5998 - val_accuracy: 0.9000\n",
            "Epoch 28/50\n",
            "9/9 [==============================] - 1s 154ms/step - loss: 0.0389 - accuracy: 0.9888 - val_loss: 0.6021 - val_accuracy: 0.9000\n",
            "Epoch 29/50\n",
            "9/9 [==============================] - 1s 140ms/step - loss: 0.0446 - accuracy: 0.9888 - val_loss: 0.6133 - val_accuracy: 0.9000\n",
            "Epoch 30/50\n",
            "9/9 [==============================] - 2s 240ms/step - loss: 0.0358 - accuracy: 0.9888 - val_loss: 0.6149 - val_accuracy: 0.9000\n",
            "Epoch 31/50\n",
            "9/9 [==============================] - 1s 147ms/step - loss: 0.0387 - accuracy: 0.9888 - val_loss: 0.6228 - val_accuracy: 0.9000\n",
            "Epoch 32/50\n",
            "9/9 [==============================] - 1s 147ms/step - loss: 0.0382 - accuracy: 0.9888 - val_loss: 0.6191 - val_accuracy: 0.9000\n",
            "Epoch 33/50\n",
            "9/9 [==============================] - 1s 140ms/step - loss: 0.0383 - accuracy: 0.9888 - val_loss: 0.6317 - val_accuracy: 0.9000\n",
            "Epoch 34/50\n",
            "9/9 [==============================] - 1s 143ms/step - loss: 0.0397 - accuracy: 0.9888 - val_loss: 0.6445 - val_accuracy: 0.9000\n",
            "Epoch 35/50\n",
            "9/9 [==============================] - 1s 145ms/step - loss: 0.0354 - accuracy: 0.9888 - val_loss: 0.6605 - val_accuracy: 0.9000\n",
            "Epoch 36/50\n",
            "9/9 [==============================] - 1s 147ms/step - loss: 0.0337 - accuracy: 0.9888 - val_loss: 0.6594 - val_accuracy: 0.9000\n",
            "Epoch 37/50\n",
            "9/9 [==============================] - 1s 142ms/step - loss: 0.0368 - accuracy: 0.9888 - val_loss: 0.6556 - val_accuracy: 0.9000\n",
            "Epoch 38/50\n",
            "9/9 [==============================] - 1s 162ms/step - loss: 0.0327 - accuracy: 0.9888 - val_loss: 0.6634 - val_accuracy: 0.9000\n",
            "Epoch 39/50\n",
            "9/9 [==============================] - 2s 248ms/step - loss: 0.0372 - accuracy: 0.9888 - val_loss: 0.6765 - val_accuracy: 0.9000\n",
            "Epoch 40/50\n",
            "9/9 [==============================] - 1s 145ms/step - loss: 0.0334 - accuracy: 0.9888 - val_loss: 0.6788 - val_accuracy: 0.9000\n",
            "Epoch 41/50\n",
            "9/9 [==============================] - 1s 142ms/step - loss: 0.0338 - accuracy: 0.9888 - val_loss: 0.6740 - val_accuracy: 0.9000\n",
            "Epoch 42/50\n",
            "9/9 [==============================] - 1s 140ms/step - loss: 0.0387 - accuracy: 0.9888 - val_loss: 0.6700 - val_accuracy: 0.9000\n",
            "Epoch 43/50\n",
            "9/9 [==============================] - 1s 146ms/step - loss: 0.0368 - accuracy: 0.9888 - val_loss: 0.6782 - val_accuracy: 0.9000\n",
            "Epoch 44/50\n",
            "9/9 [==============================] - 1s 144ms/step - loss: 0.0411 - accuracy: 0.9888 - val_loss: 0.6867 - val_accuracy: 0.9000\n",
            "Epoch 45/50\n",
            "9/9 [==============================] - 1s 145ms/step - loss: 0.0383 - accuracy: 0.9888 - val_loss: 0.6673 - val_accuracy: 0.9000\n",
            "Epoch 46/50\n",
            "9/9 [==============================] - 1s 147ms/step - loss: 0.0358 - accuracy: 0.9888 - val_loss: 0.6719 - val_accuracy: 0.9000\n",
            "Epoch 47/50\n",
            "9/9 [==============================] - 2s 203ms/step - loss: 0.0361 - accuracy: 0.9888 - val_loss: 0.6825 - val_accuracy: 0.9000\n",
            "Epoch 48/50\n",
            "9/9 [==============================] - 2s 203ms/step - loss: 0.0322 - accuracy: 0.9888 - val_loss: 0.6919 - val_accuracy: 0.9000\n",
            "Epoch 49/50\n",
            "9/9 [==============================] - 1s 152ms/step - loss: 0.0474 - accuracy: 0.9888 - val_loss: 0.4572 - val_accuracy: 0.9333\n",
            "Epoch 50/50\n",
            "9/9 [==============================] - 1s 144ms/step - loss: 0.0349 - accuracy: 0.9888 - val_loss: 0.4541 - val_accuracy: 0.9333\n"
          ]
        }
      ]
    },
    {
      "cell_type": "markdown",
      "source": [
        "### Model Evaluation"
      ],
      "metadata": {
        "id": "uy-2FBq6xFny"
      }
    },
    {
      "cell_type": "code",
      "source": [
        "# Plot Training Results\n",
        "\n",
        "model_lstm_1_hist_df = pd.DataFrame(model_lstm_1_hist.history)\n",
        "\n",
        "plt.figure(figsize=(15, 5))\n",
        "plt.subplot(1, 2, 1)\n",
        "sns.lineplot(data=model_lstm_1_hist_df[['accuracy', 'val_accuracy']])\n",
        "plt.grid()\n",
        "plt.title('Accuracy vs Val-Accuracy')\n",
        "\n",
        "plt.subplot(1, 2, 2)\n",
        "sns.lineplot(data=model_lstm_1_hist_df[['loss', 'val_loss']])\n",
        "plt.grid()\n",
        "plt.title('Loss vs Val-Loss')\n",
        "plt.show()"
      ],
      "metadata": {
        "id": "tllO8ozWIctj",
        "colab": {
          "base_uri": "https://localhost:8080/",
          "height": 430
        },
        "outputId": "53dfd238-ba95-4594-b0a2-14102d36ec42"
      },
      "execution_count": 154,
      "outputs": [
        {
          "output_type": "display_data",
          "data": {
            "text/plain": [
              "<Figure size 1500x500 with 2 Axes>"
            ],
            "image/png": "[encoded data removed]"
          },
          "metadata": {}
        }
      ]
    },
    {
      "cell_type": "markdown",
      "source": [
        "Terlihat model kita goodfit. Akurasi kereta lebih tinggi sedikit dari akurasi validasi, akantetapi perbedaan ini tidak terlalu signifikan"
      ],
      "metadata": {
        "id": "PhM48Uk8ZonG"
      }
    },
    {
      "cell_type": "markdown",
      "source": [
        "## ANN Improvment"
      ],
      "metadata": {
        "id": "6OTa3uHEyeqJ"
      }
    },
    {
      "cell_type": "markdown",
      "source": [
        "### Model Definition"
      ],
      "metadata": {
        "id": "fM4rbM3dxQVE"
      }
    },
    {
      "cell_type": "code",
      "source": [
        "# Download the Embedding Layer\n",
        "\n",
        "url = 'https://tfhub.dev/google/tf2-preview/nnlm-id-dim128-with-normalization/1'\n",
        "\n",
        "hub_layer = tf_hub.KerasLayer(url, output_shape=[128], input_shape=[], dtype=tf.string)"
      ],
      "metadata": {
        "id": "N17HuhEYCvux"
      },
      "execution_count": 155,
      "outputs": []
    },
    {
      "cell_type": "code",
      "source": [
        "# Model Training using LSTM with Transfer Learning\n",
        "\n",
        "## Clear Session\n",
        "seed = 20\n",
        "tf.keras.backend.clear_session()\n",
        "np.random.seed(seed)\n",
        "tf.random.set_seed(seed)\n",
        "\n",
        "## Define the architecture\n",
        "model_lstm_2 = Sequential()\n",
        "model_lstm_2.add(hub_layer)\n",
        "model_lstm_2.add(Reshape((128, 1)))\n",
        "model_lstm_2.add(Bidirectional(LSTM(32, return_sequences=True, kernel_initializer=tf.keras.initializers.GlorotUniform(seed))))\n",
        "model_lstm_2.add(Dropout(0.1))\n",
        "model_lstm_2.add(Bidirectional(LSTM(16, kernel_initializer=tf.keras.initializers.GlorotUniform(seed))))\n",
        "model_lstm_2.add(Dropout(0.1))\n",
        "model_lstm_2.add(Dense(2, activation='softmax'))\n",
        "\n",
        "model_lstm_2.compile(loss='categorical_crossentropy', optimizer='adam', metrics=['accuracy'])"
      ],
      "metadata": {
        "id": "My38WSgxJKN7"
      },
      "execution_count": 156,
      "outputs": []
    },
    {
      "cell_type": "markdown",
      "source": [
        "### Model Training"
      ],
      "metadata": {
        "id": "EYetCsssxZS5"
      }
    },
    {
      "cell_type": "code",
      "source": [
        "model_lstm_2_hist = model_lstm_2.fit(X_train, y_train_ohe, epochs=50, validation_data=(X_val, y_val_ohe))"
      ],
      "metadata": {
        "colab": {
          "base_uri": "https://localhost:8080/"
        },
        "id": "WH0UtW3cxbSp",
        "outputId": "0b0647a0-4a17-42d2-e428-f89088512c55"
      },
      "execution_count": 157,
      "outputs": [
        {
          "output_type": "stream",
          "name": "stdout",
          "text": [
            "Epoch 1/50\n",
            "9/9 [==============================] - 11s 357ms/step - loss: 0.6937 - accuracy: 0.5056 - val_loss: 0.6907 - val_accuracy: 0.5000\n",
            "Epoch 2/50\n",
            "9/9 [==============================] - 1s 142ms/step - loss: 0.6907 - accuracy: 0.5805 - val_loss: 0.6890 - val_accuracy: 0.6000\n",
            "Epoch 3/50\n",
            "9/9 [==============================] - 1s 157ms/step - loss: 0.6873 - accuracy: 0.6105 - val_loss: 0.6862 - val_accuracy: 0.6000\n",
            "Epoch 4/50\n",
            "9/9 [==============================] - 2s 241ms/step - loss: 0.6867 - accuracy: 0.5993 - val_loss: 0.6814 - val_accuracy: 0.5667\n",
            "Epoch 5/50\n",
            "9/9 [==============================] - 1s 138ms/step - loss: 0.6812 - accuracy: 0.6330 - val_loss: 0.6756 - val_accuracy: 0.6333\n",
            "Epoch 6/50\n",
            "9/9 [==============================] - 1s 126ms/step - loss: 0.6765 - accuracy: 0.5955 - val_loss: 0.6676 - val_accuracy: 0.6333\n",
            "Epoch 7/50\n",
            "9/9 [==============================] - 1s 126ms/step - loss: 0.6719 - accuracy: 0.6105 - val_loss: 0.6636 - val_accuracy: 0.6667\n",
            "Epoch 8/50\n",
            "9/9 [==============================] - 1s 135ms/step - loss: 0.6648 - accuracy: 0.6667 - val_loss: 0.6495 - val_accuracy: 0.6667\n",
            "Epoch 9/50\n",
            "9/9 [==============================] - 1s 138ms/step - loss: 0.6519 - accuracy: 0.6704 - val_loss: 0.5451 - val_accuracy: 0.7333\n",
            "Epoch 10/50\n",
            "9/9 [==============================] - 1s 138ms/step - loss: 0.6273 - accuracy: 0.6704 - val_loss: 0.5913 - val_accuracy: 0.6667\n",
            "Epoch 11/50\n",
            "9/9 [==============================] - 1s 135ms/step - loss: 0.6237 - accuracy: 0.6891 - val_loss: 0.5722 - val_accuracy: 0.7667\n",
            "Epoch 12/50\n",
            "9/9 [==============================] - 1s 140ms/step - loss: 0.6177 - accuracy: 0.6779 - val_loss: 0.5696 - val_accuracy: 0.7667\n",
            "Epoch 13/50\n",
            "9/9 [==============================] - 2s 216ms/step - loss: 0.6262 - accuracy: 0.6554 - val_loss: 0.5820 - val_accuracy: 0.7000\n",
            "Epoch 14/50\n",
            "9/9 [==============================] - 2s 176ms/step - loss: 0.6109 - accuracy: 0.6779 - val_loss: 0.5923 - val_accuracy: 0.6667\n",
            "Epoch 15/50\n",
            "9/9 [==============================] - 1s 135ms/step - loss: 0.6146 - accuracy: 0.6667 - val_loss: 0.5795 - val_accuracy: 0.7333\n",
            "Epoch 16/50\n",
            "9/9 [==============================] - 1s 143ms/step - loss: 0.6102 - accuracy: 0.6891 - val_loss: 0.5799 - val_accuracy: 0.7333\n",
            "Epoch 17/50\n",
            "9/9 [==============================] - 1s 140ms/step - loss: 0.6176 - accuracy: 0.6854 - val_loss: 0.5495 - val_accuracy: 0.8000\n",
            "Epoch 18/50\n",
            "9/9 [==============================] - 1s 143ms/step - loss: 0.6051 - accuracy: 0.6629 - val_loss: 0.5784 - val_accuracy: 0.7667\n",
            "Epoch 19/50\n",
            "9/9 [==============================] - 1s 130ms/step - loss: 0.6052 - accuracy: 0.6891 - val_loss: 0.5902 - val_accuracy: 0.7000\n",
            "Epoch 20/50\n",
            "9/9 [==============================] - 1s 135ms/step - loss: 0.6034 - accuracy: 0.6891 - val_loss: 0.5709 - val_accuracy: 0.7667\n",
            "Epoch 21/50\n",
            "9/9 [==============================] - 1s 140ms/step - loss: 0.6008 - accuracy: 0.6742 - val_loss: 0.5640 - val_accuracy: 0.7667\n",
            "Epoch 22/50\n",
            "9/9 [==============================] - 2s 184ms/step - loss: 0.6091 - accuracy: 0.6779 - val_loss: 0.5453 - val_accuracy: 0.8000\n",
            "Epoch 23/50\n",
            "9/9 [==============================] - 2s 203ms/step - loss: 0.6028 - accuracy: 0.6929 - val_loss: 0.5683 - val_accuracy: 0.7333\n",
            "Epoch 24/50\n",
            "9/9 [==============================] - 1s 141ms/step - loss: 0.6031 - accuracy: 0.6742 - val_loss: 0.5560 - val_accuracy: 0.7667\n",
            "Epoch 25/50\n",
            "9/9 [==============================] - 1s 145ms/step - loss: 0.5976 - accuracy: 0.6629 - val_loss: 0.5496 - val_accuracy: 0.7667\n",
            "Epoch 26/50\n",
            "9/9 [==============================] - 1s 132ms/step - loss: 0.5941 - accuracy: 0.6667 - val_loss: 0.5619 - val_accuracy: 0.7000\n",
            "Epoch 27/50\n",
            "9/9 [==============================] - 1s 130ms/step - loss: 0.5917 - accuracy: 0.6779 - val_loss: 0.5280 - val_accuracy: 0.8000\n",
            "Epoch 28/50\n",
            "9/9 [==============================] - 1s 135ms/step - loss: 0.6010 - accuracy: 0.6479 - val_loss: 0.5890 - val_accuracy: 0.7333\n",
            "Epoch 29/50\n",
            "9/9 [==============================] - 1s 129ms/step - loss: 0.5853 - accuracy: 0.6854 - val_loss: 0.5582 - val_accuracy: 0.7667\n",
            "Epoch 30/50\n",
            "9/9 [==============================] - 1s 131ms/step - loss: 0.5904 - accuracy: 0.6704 - val_loss: 0.5502 - val_accuracy: 0.7667\n",
            "Epoch 31/50\n",
            "9/9 [==============================] - 1s 136ms/step - loss: 0.6010 - accuracy: 0.6816 - val_loss: 0.5652 - val_accuracy: 0.7333\n",
            "Epoch 32/50\n",
            "9/9 [==============================] - 2s 243ms/step - loss: 0.6138 - accuracy: 0.6779 - val_loss: 0.6038 - val_accuracy: 0.6333\n",
            "Epoch 33/50\n",
            "9/9 [==============================] - 1s 139ms/step - loss: 0.6492 - accuracy: 0.6404 - val_loss: 0.6216 - val_accuracy: 0.5667\n",
            "Epoch 34/50\n",
            "9/9 [==============================] - 1s 134ms/step - loss: 0.6122 - accuracy: 0.6779 - val_loss: 0.5586 - val_accuracy: 0.8000\n",
            "Epoch 35/50\n",
            "9/9 [==============================] - 1s 131ms/step - loss: 0.6114 - accuracy: 0.6742 - val_loss: 0.5874 - val_accuracy: 0.7000\n",
            "Epoch 36/50\n",
            "9/9 [==============================] - 1s 136ms/step - loss: 0.6099 - accuracy: 0.7041 - val_loss: 0.5895 - val_accuracy: 0.7333\n",
            "Epoch 37/50\n",
            "9/9 [==============================] - 1s 135ms/step - loss: 0.6000 - accuracy: 0.7041 - val_loss: 0.5515 - val_accuracy: 0.7333\n",
            "Epoch 38/50\n",
            "9/9 [==============================] - 1s 136ms/step - loss: 0.6104 - accuracy: 0.6592 - val_loss: 0.5832 - val_accuracy: 0.7000\n",
            "Epoch 39/50\n",
            "9/9 [==============================] - 1s 138ms/step - loss: 0.6180 - accuracy: 0.7041 - val_loss: 0.5497 - val_accuracy: 0.7667\n",
            "Epoch 40/50\n",
            "9/9 [==============================] - 1s 141ms/step - loss: 0.5971 - accuracy: 0.7079 - val_loss: 0.5570 - val_accuracy: 0.7333\n",
            "Epoch 41/50\n",
            "9/9 [==============================] - 2s 233ms/step - loss: 0.6152 - accuracy: 0.6592 - val_loss: 0.5376 - val_accuracy: 0.7667\n",
            "Epoch 42/50\n",
            "9/9 [==============================] - 1s 156ms/step - loss: 0.6021 - accuracy: 0.6966 - val_loss: 0.5511 - val_accuracy: 0.7333\n",
            "Epoch 43/50\n",
            "9/9 [==============================] - 1s 132ms/step - loss: 0.6091 - accuracy: 0.6816 - val_loss: 0.5666 - val_accuracy: 0.7000\n",
            "Epoch 44/50\n",
            "9/9 [==============================] - 1s 135ms/step - loss: 0.6166 - accuracy: 0.6891 - val_loss: 0.5662 - val_accuracy: 0.7000\n",
            "Epoch 45/50\n",
            "9/9 [==============================] - 1s 129ms/step - loss: 0.5923 - accuracy: 0.7004 - val_loss: 0.5510 - val_accuracy: 0.7333\n",
            "Epoch 46/50\n",
            "9/9 [==============================] - 1s 127ms/step - loss: 0.6025 - accuracy: 0.6966 - val_loss: 0.5363 - val_accuracy: 0.7000\n",
            "Epoch 47/50\n",
            "9/9 [==============================] - 1s 132ms/step - loss: 0.6311 - accuracy: 0.6742 - val_loss: 0.5997 - val_accuracy: 0.7000\n",
            "Epoch 48/50\n",
            "9/9 [==============================] - 1s 134ms/step - loss: 0.6121 - accuracy: 0.6891 - val_loss: 0.5990 - val_accuracy: 0.6667\n",
            "Epoch 49/50\n",
            "9/9 [==============================] - 1s 135ms/step - loss: 0.6222 - accuracy: 0.6704 - val_loss: 0.5835 - val_accuracy: 0.6667\n",
            "Epoch 50/50\n",
            "9/9 [==============================] - 1s 147ms/step - loss: 0.6151 - accuracy: 0.6704 - val_loss: 0.5620 - val_accuracy: 0.7000\n"
          ]
        }
      ]
    },
    {
      "cell_type": "markdown",
      "source": [
        "### Model Evaluation"
      ],
      "metadata": {
        "id": "sxOClmiCxcrh"
      }
    },
    {
      "cell_type": "code",
      "source": [
        "# Plot Training Results\n",
        "\n",
        "model_lstm_2_hist_df = pd.DataFrame(model_lstm_2_hist.history)\n",
        "\n",
        "plt.figure(figsize=(15, 5))\n",
        "plt.subplot(1, 2, 1)\n",
        "sns.lineplot(data=model_lstm_2_hist_df[['accuracy', 'val_accuracy']])\n",
        "plt.grid()\n",
        "plt.title('Accuracy vs Val-Accuracy')\n",
        "\n",
        "plt.subplot(1, 2, 2)\n",
        "sns.lineplot(data=model_lstm_2_hist_df[['loss', 'val_loss']])\n",
        "plt.grid()\n",
        "plt.title('Loss vs Val-Loss')\n",
        "plt.show()"
      ],
      "metadata": {
        "id": "RQpDQW2OJo1_",
        "colab": {
          "base_uri": "https://localhost:8080/",
          "height": 428
        },
        "outputId": "c356179a-dcaf-457b-ae29-6604439a99d6"
      },
      "execution_count": 158,
      "outputs": [
        {
          "output_type": "display_data",
          "data": {
            "text/plain": [
              "<Figure size 1500x500 with 2 Axes>"
            ],
            "image/png": "[encoded data removed]"
          },
          "metadata": {}
        }
      ]
    },
    {
      "cell_type": "markdown",
      "source": [
        "Setelah kami menambahkan pembelajaran transfer ke dalam model kami, model tersebut menjadi kurang cocok dan cenderung cocok. Namun, sangat sulit untuk meningkatkan akurasinya, sehingga akurasi yang ditemukan setelah melakukan pembelajaran transfer yaitu sekitar 65%. Berikut beberapa kemungkinan penyebabnya:\n",
        "\n",
        "1. Pemrosesan awal teks tidak lengkap.\n",
        "     Kumpulan data dari media sosial sering kali berbentuk teks informal. Oleh karena itu, kita harus menanganinya terlebih dahulu seperti:\n",
        "     * Menerapkan Formalisasi Kata: `u` menjadi `you`.\n",
        "     * Hapus karakter khusus dalam sebuah kata : `you[tube]` menjadi `youtube`.\n",
        "     * dll.\n",
        "\n",
        "2. Kumpulan data yang seimbang\n",
        "   \n",
        "     Dataset kami berisi target dengan distribusi :\n",
        "     * `0` : 175\n",
        "     * `1` : 175\n"
      ],
      "metadata": {
        "id": "hGYQN8RAaS0v"
      }
    },
    {
      "cell_type": "markdown",
      "source": [
        "## Model Saving"
      ],
      "metadata": {
        "id": "uQ6eHNsi6Gq_"
      }
    },
    {
      "cell_type": "code",
      "source": [
        "# Model Saving\n",
        "model_lstm_1.save('best_model.keras')"
      ],
      "metadata": {
        "id": "VmgY8WbF6M32"
      },
      "execution_count": 159,
      "outputs": []
    },
    {
      "cell_type": "markdown",
      "source": [
        "## Model Inference"
      ],
      "metadata": {
        "id": "KGhtvgoRVtNv"
      }
    },
    {
      "cell_type": "code",
      "source": [
        "teks = \"Dont Forget Subscribe My youtube Channel\"\n",
        "data_inf = text_preprocessing(teks)\n",
        "data_inf_vec = Vectorize.transform(pd.Series(data_inf)).toarray()\n",
        "prediction = model_lstm_1.predict(data_inf_vec)\n",
        "print(prediction)\n",
        "prediction.argmax(axis=1)"
      ],
      "metadata": {
        "id": "82jGCs5xkMNL"
      },
      "execution_count": null,
      "outputs": []
    },
    {
      "cell_type": "code",
      "source": [
        "teks = \"Thats Great\"\n",
        "data_inf = text_preprocessing(teks)\n",
        "data_inf_vec = Vectorize.transform(pd.Series(data_inf)).toarray()\n",
        "prediction = model_lstm_1.predict(data_inf_vec)\n",
        "print(prediction)\n",
        "prediction.argmax(axis=1)"
      ],
      "metadata": {
        "id": "D8SYJdut6Wl1"
      },
      "execution_count": null,
      "outputs": []
    },
    {
      "cell_type": "code",
      "source": [
        "prediction = model_lstm_1.predict(X_test_vec.toarray())\n",
        "print(prediction)"
      ],
      "metadata": {
        "id": "7b4jUiI_6X83"
      },
      "execution_count": null,
      "outputs": []
    },
    {
      "cell_type": "markdown",
      "source": [
        "## Conclusion"
      ],
      "metadata": {
        "id": "jQepKnHM6ZzJ"
      }
    },
    {
      "cell_type": "markdown",
      "source": [
        "- Berdasarkan evaluasi kedua model, terlihat bahwa model yang ditingkatkan memiliki kinerja lebih buruk daripada model dasar dalam hal akurasi, stabilitas, dan konvergensi.\n",
        "- Sebaliknya, model dasar menunjukkan performa yang lebih realistis. Oleh karena itu, model dasar adalah pilihan yang lebih disukai dan dipilih pada kasus ini\n",
        "- Model kedua tidak dapat diandalkan untuk memprediksi sentimen utama dari proyek ini. pengoptimalan dan eksplorasi lebih lanjut terhadap arsitektur yang berbeda mungkin diperlukan untuk mencapai hasil yang lebih baik dan memahami faktor-faktor yang berkontribusi terhadap kurangnya peningkatan model.\n",
        "- Diketahui penurunan akurasi pada model improvement dari sekitar 90% menjadi 65%"
      ],
      "metadata": {
        "id": "Dcw_LY3jNz2P"
      }
    }
  ]
}